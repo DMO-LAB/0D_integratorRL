{
 "cells": [
  {
   "cell_type": "code",
   "execution_count": 1,
   "metadata": {},
   "outputs": [
    {
     "name": "stdout",
     "output_type": "stream",
     "text": [
      "============================================================================================\n",
      "Device set to : NVIDIA GeForce RTX 3080\n",
      "============================================================================================\n"
     ]
    }
   ],
   "source": [
    "import json\n",
    "from datetime import datetime\n",
    "from config.default_config import Args\n",
    "from agents.ppo_ import PPO\n",
    "from environment.env_wrapper import EnvManager\n",
    "import torch\n",
    "import os\n",
    "import matplotlib.pyplot as plt\n",
    "import numpy as np"
   ]
  },
  {
   "cell_type": "code",
   "execution_count": 2,
   "metadata": {},
   "outputs": [],
   "source": [
    "env_args = Args()\n",
    "env_args.timeout = 0.5\n",
    "env_manager = EnvManager(env_args, create_envs=False)\n",
    "\n",
    "fixed_temperature = 1200\n",
    "fixed_pressure = 1\n",
    "fixed_phi = 1\n",
    "end_time = 0.1\n",
    "fixed_dt = 0.0001"
   ]
  },
  {
   "cell_type": "code",
   "execution_count": 4,
   "metadata": {},
   "outputs": [
    {
     "name": "stdout",
     "output_type": "stream",
     "text": [
      "Creating a single environment with fixed parameters - T=1200, P=1, phi=1, dt=0.0001\n",
      "Combustion problem initialized with T=1200, P=101325.0, phi=1 and timestep=0.0001\n"
     ]
    },
    {
     "name": "stderr",
     "output_type": "stream",
     "text": [
      "Computing reference solution: 100%|██████████| 1000/1000 [00:00<00:00, 4331.42it/s]\n"
     ]
    },
    {
     "name": "stdout",
     "output_type": "stream",
     "text": [
      "Reference solution computed in 0.23 seconds\n",
      "Done setting up problem\n",
      "Creating a single environment with fixed parameters - T=1200, P=1, phi=1, dt=0.0001\n",
      "Combustion problem initialized with T=1200, P=101325.0, phi=1 and timestep=0.0001\n"
     ]
    },
    {
     "name": "stderr",
     "output_type": "stream",
     "text": [
      "Computing reference solution: 100%|██████████| 1000/1000 [00:00<00:00, 7175.82it/s]\n"
     ]
    },
    {
     "name": "stdout",
     "output_type": "stream",
     "text": [
      "Reference solution computed in 0.14 seconds\n",
      "Done setting up problem\n",
      "Creating a single environment with fixed parameters - T=1200, P=1, phi=1, dt=0.0001\n",
      "Combustion problem initialized with T=1200, P=101325.0, phi=1 and timestep=0.0001\n"
     ]
    },
    {
     "name": "stderr",
     "output_type": "stream",
     "text": [
      "Computing reference solution: 100%|██████████| 1000/1000 [00:00<00:00, 7397.62it/s]"
     ]
    },
    {
     "name": "stdout",
     "output_type": "stream",
     "text": [
      "Reference solution computed in 0.14 seconds\n",
      "Done setting up problem\n"
     ]
    },
    {
     "name": "stderr",
     "output_type": "stream",
     "text": [
      "\n"
     ]
    }
   ],
   "source": [
    "# Create a sample environment to get dimensions\n",
    "\n",
    "env = env_manager.create_single_env(\n",
    "    end_time=end_time,\n",
    "    fixed_temperature=fixed_temperature,\n",
    "    fixed_pressure=fixed_pressure,\n",
    "    fixed_phi=fixed_phi,\n",
    "    randomize=False,\n",
    "    fixed_dt=fixed_dt\n",
    ")\n",
    "state_dim = env.observation_space.shape[0]\n",
    "action_dim = env.action_space.n\n",
    "\n",
    "envs = {}\n",
    "for i in range(action_dim):\n",
    "    envs[i] = env_manager.create_single_env(\n",
    "        end_time=end_time,\n",
    "        fixed_temperature=fixed_temperature,\n",
    "        fixed_pressure=fixed_pressure,\n",
    "        fixed_phi=fixed_phi,\n",
    "        randomize=False,\n",
    "        fixed_dt=fixed_dt\n",
    "    )\n",
    "\n",
    "# Initialize PPO agent\n",
    "agent = PPO(\n",
    "    state_dim=state_dim,\n",
    "    action_dim=action_dim,\n",
    "    lr_actor=env_args.learning_rate,\n",
    "    lr_critic=env_args.learning_rate,\n",
    "    gamma=0.99,\n",
    "    K_epochs=10,\n",
    "    eps_clip=0.2,\n",
    "    has_continuous_action_space=False\n",
    ")\n",
    "\n",
    "# Set up device\n",
    "device = torch.device('cuda:0' if torch.cuda.is_available() else 'cpu')"
   ]
  }
 ],
 "metadata": {
  "kernelspec": {
   "display_name": "ember-build",
   "language": "python",
   "name": "python3"
  },
  "language_info": {
   "codemirror_mode": {
    "name": "ipython",
    "version": 3
   },
   "file_extension": ".py",
   "mimetype": "text/x-python",
   "name": "python",
   "nbconvert_exporter": "python",
   "pygments_lexer": "ipython3",
   "version": "3.9.21"
  }
 },
 "nbformat": 4,
 "nbformat_minor": 2
}
