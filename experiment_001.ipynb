{
 "cells": [
  {
   "cell_type": "code",
   "execution_count": 28,
   "metadata": {},
   "outputs": [],
   "source": [
    "import json\n",
    "from datetime import datetime\n",
    "from config.default_config import Args\n",
    "from agents.ppo_ import PPO\n",
    "from environment.env_wrapper import EnvManager\n",
    "import torch\n",
    "import os\n",
    "import matplotlib.pyplot as plt\n",
    "import numpy as np"
   ]
  },
  {
   "cell_type": "code",
   "execution_count": 2,
   "metadata": {},
   "outputs": [],
   "source": [
    "# Dictionary mapping fuel names to their mechanism files\n",
    "FUEL_MECHANISMS = {\n",
    "    'n-dodecane': '/home/elo/CODES/SCI-ML/RLIntegratorSelector/large_mechanism/large_mechanism/n-dodecane.yaml',\n",
    "    'octane': '/home/elo/CODES/SCI-ML/RLIntegratorSelector/large_mechanism/large_mechanism/octane.yaml',\n",
    "    'methane': 'gri30.yaml',\n",
    "}\n",
    "\n",
    "# Dictionary mapping fuel names to their canonical species name in the mechanism\n",
    "FUEL_SPECIES = {\n",
    "    'n-dodecane': 'nc12h26',\n",
    "    'octane': 'IC8H18',\n",
    "    'methane': 'CH4',\n",
    "}\n",
    "\n",
    "# Update fuel data paths - you should update these with your actual paths\n",
    "FUEL_DATA_PATHS = {\n",
    "    'n-dodecane': '/home/elo/CODES/SCI-ML/RLIntegratorSelector/ember_samples_uniform_z_n-dodecane/initial_conditions_uniform_z_n_dodecane.npz',\n",
    "    # 'octane': '/home/elo/CODES/SCI-ML/RLIntegratorSelector/ember_samples_uniform_z_octane/initial_conditions_uniform_z_octane.npz',\n",
    "    # 'methane': '/home/elo/CODES/SCI-ML/RLIntegratorSelector/ember_samples_uniform_z_CH4/initial_conditions_uniform_z_ch4.npz',\n",
    "}"
   ]
  },
  {
   "cell_type": "code",
   "execution_count": 143,
   "metadata": {},
   "outputs": [],
   "source": [
    "fuel = 'n-dodecane'\n",
    "fuel_data = np.load(FUEL_DATA_PATHS[fuel])"
   ]
  },
  {
   "cell_type": "code",
   "execution_count": 144,
   "metadata": {},
   "outputs": [],
   "source": [
    "import cantera as ct\n",
    "def load_fuel_data(fuel_data_paths):\n",
    "    \"\"\"\n",
    "    Load data for multiple fuels from specified paths.\n",
    "    \n",
    "    Args:\n",
    "        fuel_data_paths: Dictionary mapping fuel names to their data paths\n",
    "        \n",
    "    Returns:\n",
    "        Dictionary of fuel data, where each entry contains initial conditions\n",
    "    \"\"\"\n",
    "    all_fuel_data = {}\n",
    "    \n",
    "    for fuel_name, data_path in fuel_data_paths.items():\n",
    "        print(f\"Loading data for fuel: {fuel_name} from {data_path}\")\n",
    "        data = np.load(data_path)\n",
    "        \n",
    "        # Extract arrays and reshape 1D arrays to 2D\n",
    "        phis = data['phi'].reshape(-1, 1)\n",
    "        # replace inf phi with 1e5\n",
    "        phis = np.where(phis == np.inf, 1e5, phis)\n",
    "        Ts = data['T'].reshape(-1, 1)\n",
    "        Ps = data['P'].reshape(-1, 1) / ct.one_atm\n",
    "        Ys = data['Y']\n",
    "        \n",
    "        # Include Z if available\n",
    "        if 'Z' in data:\n",
    "            Zs = data['Z'].reshape(-1, 1)\n",
    "            initial_conditions = np.concatenate([phis, Ts, Ps, Zs, Ys], axis=1)\n",
    "        else:\n",
    "            initial_conditions = np.concatenate([phis, Ts, Ps, Ys], axis=1)\n",
    "        \n",
    "        all_fuel_data[fuel_name] = {\n",
    "            'initial_conditions': initial_conditions,\n",
    "            'has_Z': 'Z' in data\n",
    "        }\n",
    "        \n",
    "        print(f\"  Loaded {len(initial_conditions)} conditions for {fuel_name}\")\n",
    "    \n",
    "    return all_fuel_data\n",
    "\n",
    "\n",
    "def parse_composition(gas, X):\n",
    "    \"\"\"create a dictionary of species:fraction pairs from the gas species names and X.\"\"\"\n",
    "    species_names = gas.species_names\n",
    "    composition = {}\n",
    "    for i, species in enumerate(species_names):\n",
    "        composition[species] = X[i]\n",
    "    return composition"
   ]
  },
  {
   "cell_type": "code",
   "execution_count": 145,
   "metadata": {},
   "outputs": [
    {
     "name": "stdout",
     "output_type": "stream",
     "text": [
      "Loading data for fuel: n-dodecane from /home/elo/CODES/SCI-ML/RLIntegratorSelector/ember_samples_uniform_z_n-dodecane/initial_conditions_uniform_z_n_dodecane.npz\n",
      "  Loaded 5000 conditions for n-dodecane\n"
     ]
    }
   ],
   "source": [
    "n_dodecane_data = load_fuel_data(FUEL_DATA_PATHS)"
   ]
  },
  {
   "cell_type": "code",
   "execution_count": 146,
   "metadata": {},
   "outputs": [],
   "source": [
    "n_dodecane_data = n_dodecane_data['n-dodecane']"
   ]
  },
  {
   "cell_type": "code",
   "execution_count": 147,
   "metadata": {},
   "outputs": [
    {
     "name": "stdout",
     "output_type": "stream",
     "text": [
      "X shape: (5000, 106)\n",
      "T shape: (5000,)\n",
      "phis shape: (5000,)\n",
      "pressures shape: (5000,)\n"
     ]
    }
   ],
   "source": [
    "T = n_dodecane_data['initial_conditions'][:, 1]\n",
    "phis = n_dodecane_data['initial_conditions'][:, 0]\n",
    "pressures = n_dodecane_data['initial_conditions'][:, 2]\n",
    "Zs = n_dodecane_data['initial_conditions'][:, 3]\n",
    "X = n_dodecane_data['initial_conditions'][:, 4:]\n",
    "\n",
    "print(f\"X shape: {X.shape}\")\n",
    "print(f\"T shape: {T.shape}\")\n",
    "print(f\"phis shape: {phis.shape}\")\n",
    "print(f\"pressures shape: {pressures.shape}\")\n",
    "\n",
    "\n",
    "\n"
   ]
  },
  {
   "cell_type": "code",
   "execution_count": 148,
   "metadata": {},
   "outputs": [
    {
     "name": "stdout",
     "output_type": "stream",
     "text": [
      "Maximum phi: 100000.0, Minimum phi: 0.0, Mean phi: 1106.3069654287378, Median phi: 17.325535630314437, Standard deviation of phi: 9946.490405745413\n",
      "Maximum T: 1596.1653084872814, Minimum T: 300.91188097167213, Mean T: 807.7188174539523, Median T: 786.8496290677715, Standard deviation of T: 288.9755592190623\n",
      "Maximum pressure: 1.0, Minimum pressure: 1.0, Mean pressure: 1.0, Median pressure: 1.0, Standard deviation of pressure: 0.0\n"
     ]
    }
   ],
   "source": [
    "print(f\"Maximum phi: {np.max(phis)}, Minimum phi: {np.min(phis)}, Mean phi: {np.mean(phis)}, Median phi: {np.median(phis)}, Standard deviation of phi: {np.std(phis)}\")\n",
    "print(f\"Maximum T: {np.max(T)}, Minimum T: {np.min(T)}, Mean T: {np.mean(T)}, Median T: {np.median(T)}, Standard deviation of T: {np.std(T)}\")\n",
    "print(f\"Maximum pressure: {np.max(pressures)}, Minimum pressure: {np.min(pressures)}, Mean pressure: {np.mean(pressures)}, Median pressure: {np.median(pressures)}, Standard deviation of pressure: {np.std(pressures)}\")"
   ]
  },
  {
   "cell_type": "code",
   "execution_count": 164,
   "metadata": {},
   "outputs": [
    {
     "name": "stdout",
     "output_type": "stream",
     "text": [
      "Number of phis greater than 1000: 0.03\n",
      "Number of phis greater than 10000: 0.01\n",
      "Number of phis greater than 100000: 0.0\n"
     ]
    }
   ],
   "source": [
    "# how many phis are greater than 1000\n",
    "print(f\"Number of phis greater than 1000: {np.sum(phis > 1000) / len(phis)}\")\n",
    "# how many phis are greater than 10000\n",
    "print(f\"Number of phis greater than 10000: {np.sum(phis > 10000) / len(phis)}\")\n",
    "# how many phis are greater than 100000\n",
    "print(f\"Number of phis greater than 100000: {np.sum(phis > 100000) / len(phis)}\")\n"
   ]
  },
  {
   "cell_type": "code",
   "execution_count": 172,
   "metadata": {},
   "outputs": [
    {
     "data": {
      "text/plain": [
       "np.float64(1.733448591192508)"
      ]
     },
     "execution_count": 172,
     "metadata": {},
     "output_type": "execute_result"
    }
   ],
   "source": [
    "phis[-390]"
   ]
  },
  {
   "cell_type": "code",
   "execution_count": 149,
   "metadata": {},
   "outputs": [],
   "source": [
    "def calculate_simple_phi(gas, fuel_name, oxidizer_name=\"O2\"):\n",
    "    \"\"\"\n",
    "    Calculate equivalence ratio for a simple hydrocarbon fuel and oxygen\n",
    "    \n",
    "    Args:\n",
    "        gas (ct.Solution): Cantera Solution object with current state\n",
    "        fuel_name (str): Name of the fuel species\n",
    "        oxidizer_name (str): Name of the oxidizer species (default: \"O2\")\n",
    "    \n",
    "    Returns:\n",
    "        float: Equivalence ratio phi\n",
    "    \"\"\"\n",
    "    # Get indices\n",
    "    fuel_idx = gas.species_index(fuel_name)\n",
    "    oxidizer_idx = gas.species_index(oxidizer_name)\n",
    "    \n",
    "    # Get number of C, H, and O atoms in fuel molecule\n",
    "    n_C = gas.n_atoms(fuel_idx, 'C')\n",
    "    n_H = gas.n_atoms(fuel_idx, 'H')\n",
    "    n_O = gas.n_atoms(fuel_idx, 'O')\n",
    "    \n",
    "    # Calculate the stoichiometric coefficient:\n",
    "    # CxHyOz + (x + y/4 - z/2) O2 → x CO2 + (y/2) H2O\n",
    "    stoich_coeff = n_C + n_H/4.0 - n_O/2.0\n",
    "    \n",
    "    # Get current mole fractions\n",
    "    X_fuel = gas.X[fuel_idx]\n",
    "    X_oxidizer = gas.X[oxidizer_idx]\n",
    "    \n",
    "    # Calculate phi\n",
    "    phi = (X_fuel / X_oxidizer) / (1 / stoich_coeff)\n",
    "    \n",
    "    # Alternative formulation: phi = X_fuel/X_oxidizer * stoich_coeff\n",
    "    \n",
    "    return phi\n",
    "\n",
    "\n",
    "def calculate_equivalence_ratio(gas, fuel_species, oxidizer_species=\"O2\"):\n",
    "    \"\"\"\n",
    "    Calculate the equivalence ratio phi for a given Cantera gas mixture.\n",
    "    \n",
    "    Args:\n",
    "        gas (ct.Solution): Cantera Solution object with current state\n",
    "        fuel_species (str or list): Name(s) of fuel species\n",
    "        oxidizer_species (str): Name of oxidizer species (default: \"O2\")\n",
    "    \n",
    "    Returns:\n",
    "        float: Equivalence ratio phi\n",
    "    \"\"\"\n",
    "    import numpy as np\n",
    "    \n",
    "    # Convert fuel_species to list if it's a string\n",
    "    if isinstance(fuel_species, str):\n",
    "        fuel_species = [fuel_species]\n",
    "        \n",
    "    # Get species indices\n",
    "    fuel_indices = [gas.species_index(species) for species in fuel_species]\n",
    "    oxidizer_index = gas.species_index(oxidizer_species)\n",
    "    \n",
    "    # Get current composition\n",
    "    X = gas.X\n",
    "    \n",
    "    # Calculate the actual fuel-to-oxidizer ratio\n",
    "    X_fuel = np.sum([X[i] for i in fuel_indices])\n",
    "    X_oxidizer = X[oxidizer_index]\n",
    "    actual_ratio = X_fuel / X_oxidizer if X_oxidizer > 0 else float('inf')\n",
    "    \n",
    "    # Calculate stoichiometric coefficients for complete combustion\n",
    "    # For each fuel, calculate how much oxygen is needed for complete combustion\n",
    "    stoich_O2_needed = 0\n",
    "    for fuel_idx in fuel_indices:\n",
    "        # Get number of C, H, and O atoms in fuel molecule\n",
    "        n_C = gas.n_atoms(fuel_idx, 'C')\n",
    "        n_H = gas.n_atoms(fuel_idx, 'H')\n",
    "        n_O = gas.n_atoms(fuel_idx, 'O')\n",
    "        \n",
    "        # Calculate O2 needed for this fuel:\n",
    "        # CxHyOz + (x + y/4 - z/2) O2 → x CO2 + (y/2) H2O\n",
    "        stoich_coeff = n_C + n_H/4.0 - n_O/2.0\n",
    "        stoich_O2_needed += stoich_coeff * X[fuel_idx]\n",
    "    \n",
    "    # Calculate stoichiometric ratio (fuel to oxidizer)\n",
    "    stoich_ratio = X_fuel / stoich_O2_needed if stoich_O2_needed > 0 else float('inf')\n",
    "    \n",
    "    # Calculate equivalence ratio\n",
    "    phi = actual_ratio / stoich_ratio if stoich_ratio > 0 else float('inf')\n",
    "    \n",
    "    return phi\n"
   ]
  },
  {
   "cell_type": "code",
   "execution_count": null,
   "metadata": {},
   "outputs": [],
   "source": []
  },
  {
   "cell_type": "code",
   "execution_count": 161,
   "metadata": {},
   "outputs": [
    {
     "name": "stdout",
     "output_type": "stream",
     "text": [
      "Index: 485\n",
      "fuel_index: 66, o2_index: 3\n",
      "Gas temperature: 459.2243517427133\n",
      "Gas pressure: 0.9999999999999999\n",
      "o2: 0.10357460871568366\n",
      "nc12h26: 0.5069848625133456\n",
      "Z: 0.8585858585858587\n",
      "Original phi: 97.43029724508227\n",
      "Calculated phi: 90.5552053036784\n",
      "Calculated phi 2: 90.5552053036784\n",
      "90.55520530367842\n"
     ]
    }
   ],
   "source": [
    "gas = ct.Solution(FUEL_MECHANISMS[fuel])\n",
    "\n",
    "\n",
    "index = np.random.randint(0, len(T))\n",
    "print(f\"Index: {index}\")\n",
    "# X = parse_composition(gas, X)\n",
    "\n",
    "species_to_track = ['o2',  FUEL_SPECIES[fuel]]\n",
    "\n",
    "o2_index = gas.species_index('o2')\n",
    "h2_index = gas.species_index('h2')\n",
    "h2o_index = gas.species_index('h2o')\n",
    "co2_index = gas.species_index('co2')\n",
    "co_index = gas.species_index('co')\n",
    "fuel_index = gas.species_index(FUEL_SPECIES[fuel])\n",
    "\n",
    "print(f\"fuel_index: {fuel_index}, o2_index: {o2_index}\")\n",
    "gas.TPY = T[index], pressures[index], X[index]\n",
    "\n",
    "print(f\"Gas temperature: {gas.T}\")\n",
    "print(f\"Gas pressure: {gas.P}\")\n",
    "for species in species_to_track:\n",
    "    print(f\"{species}: {gas.X[gas.species_index(species)]}\")\n",
    "\n",
    "print(f\"Z: {Zs[index]}\")\n",
    "\n",
    "print(f\"Original phi: {phis[index]}\")\n",
    "\n",
    "\n",
    "\n",
    "phi_calculated = calculate_simple_phi(gas, FUEL_SPECIES[fuel], 'o2')\n",
    "print(f\"Calculated phi: {phi_calculated}\")\n",
    "\n",
    "phi_calculated2 = calculate_equivalence_ratio(gas, FUEL_SPECIES[fuel], 'o2')\n",
    "print(f\"Calculated phi 2: {phi_calculated2}\")\n",
    "\n",
    "\n",
    "print(gas.equivalence_ratio())\n",
    "\n",
    "\n",
    "\n"
   ]
  },
  {
   "cell_type": "code",
   "execution_count": 162,
   "metadata": {},
   "outputs": [
    {
     "data": {
      "image/png": "[encoded data removed]",
      "text/plain": [
       "<Figure size 640x480 with 1 Axes>"
      ]
     },
     "metadata": {},
     "output_type": "display_data"
    }
   ],
   "source": [
    "#plot all equivalence ratios\n",
    "fig = plt.figure()\n",
    "plt.plot(phis)\n",
    "plt.show()\n",
    "\n",
    "\n",
    "\n",
    "\n"
   ]
  },
  {
   "cell_type": "code",
   "execution_count": 140,
   "metadata": {},
   "outputs": [
    {
     "data": {
      "text/plain": [
       "2.0572379298198733"
      ]
     },
     "execution_count": 140,
     "metadata": {},
     "output_type": "execute_result"
    }
   ],
   "source": [
    "gas.equivalence_ratio()"
   ]
  },
  {
   "cell_type": "code",
   "execution_count": 175,
   "metadata": {},
   "outputs": [
    {
     "data": {
      "text/plain": [
       "np.float64(0.07474417428232198)"
      ]
     },
     "execution_count": 175,
     "metadata": {},
     "output_type": "execute_result"
    }
   ],
   "source": [
    "np.log10(1.6758398866510207)/3"
   ]
  },
  {
   "cell_type": "code",
   "execution_count": 26,
   "metadata": {},
   "outputs": [
    {
     "data": {
      "image/png": "[encoded data removed]",
      "text/plain": [
       "<Figure size 640x480 with 2 Axes>"
      ]
     },
     "metadata": {},
     "output_type": "display_data"
    }
   ],
   "source": [
    "# plot all the temperature in a scatter plot\n",
    "plt.scatter(obs[:, 0], obs[:, 0], c=action, cmap='viridis')\n",
    "plt.colorbar(label='Integrator')\n",
    "plt.xlabel('Temperature')\n",
    "plt.ylabel('Temperature')\n",
    "plt.title('Temperature vs Temperature')\n",
    "plt.show()"
   ]
  },
  {
   "cell_type": "code",
   "execution_count": 23,
   "metadata": {},
   "outputs": [],
   "source": [
    "phi = obs[:, 1]"
   ]
  },
  {
   "cell_type": "code",
   "execution_count": 24,
   "metadata": {},
   "outputs": [
    {
     "name": "stdout",
     "output_type": "stream",
     "text": [
      "Maximum phi: 1.1851686239242554\n",
      "Minimum phi: -1.0\n",
      "Mean phi: 0.31104526142883077\n",
      "Median phi: 0.29873692989349365\n",
      "Standard deviation of phi: 0.20789069839556873\n"
     ]
    }
   ],
   "source": [
    "print(f\"Maximum phi: {np.max(phi)}\")\n",
    "print(f\"Minimum phi: {np.min(phi)}\")\n",
    "print(f\"Mean phi: {np.mean(phi)}\")\n",
    "print(f\"Median phi: {np.median(phi)}\")\n",
    "print(f\"Standard deviation of phi: {np.std(phi)}\")\n",
    "\n"
   ]
  },
  {
   "cell_type": "code",
   "execution_count": 6,
   "metadata": {},
   "outputs": [],
   "source": [
    "phi = np.maximum(phi, 1e-3)\n",
    "phi = np.minimum(phi, 1e4)\n",
    "data[:, 1] = np.log10(phi)/3"
   ]
  },
  {
   "cell_type": "code",
   "execution_count": 4,
   "metadata": {},
   "outputs": [],
   "source": [
    "# save data\n",
    "import os\n",
    "import numpy as np\n",
    "\n",
    "\n",
    "data = np.load('/home/elo/CODES/SCI-ML/0D_integratorRL/pretraining_results/20250408_171422/data/pretraining_dataset.npy')\n"
   ]
  },
  {
   "cell_type": "code",
   "execution_count": 5,
   "metadata": {},
   "outputs": [
    {
     "data": {
      "text/plain": [
       "(48302, 17)"
      ]
     },
     "execution_count": 5,
     "metadata": {},
     "output_type": "execute_result"
    }
   ],
   "source": [
    "data.shape"
   ]
  },
  {
   "cell_type": "code",
   "execution_count": 8,
   "metadata": {},
   "outputs": [],
   "source": [
    "env_args = Args()\n",
    "env_args.timeout = 0.5\n",
    "env_manager = EnvManager(env_args, create_envs=False)\n",
    "\n",
    "fixed_temperature = 1200\n",
    "fixed_pressure = 1\n",
    "fixed_phi = 0.76\n",
    "end_time = 0.1\n",
    "fixed_dt = 0.0001"
   ]
  },
  {
   "cell_type": "code",
   "execution_count": 9,
   "metadata": {},
   "outputs": [
    {
     "name": "stdout",
     "output_type": "stream",
     "text": [
      "Creating a single environment with fixed parameters - T=1200, P=1, phi=0.76, dt=0.0001\n",
      "Combustion problem initialized with T=1200, P=101325.0, phi=0.76 and timestep=0.0001\n"
     ]
    },
    {
     "name": "stderr",
     "output_type": "stream",
     "text": [
      "Computing reference solution: 100%|██████████| 1000/1000 [00:00<00:00, 7486.62it/s]\n"
     ]
    },
    {
     "name": "stdout",
     "output_type": "stream",
     "text": [
      "Reference solution computed in 0.14 seconds\n",
      "Done setting up problem\n",
      "Creating a single environment with fixed parameters - T=1200, P=1, phi=0.76, dt=0.0001\n",
      "Combustion problem initialized with T=1200, P=101325.0, phi=0.76 and timestep=0.0001\n"
     ]
    },
    {
     "name": "stderr",
     "output_type": "stream",
     "text": [
      "Computing reference solution: 100%|██████████| 1000/1000 [00:00<00:00, 6840.19it/s]\n"
     ]
    },
    {
     "name": "stdout",
     "output_type": "stream",
     "text": [
      "Reference solution computed in 0.15 seconds\n",
      "Done setting up problem\n",
      "Creating a single environment with fixed parameters - T=1200, P=1, phi=0.76, dt=0.0001\n",
      "Combustion problem initialized with T=1200, P=101325.0, phi=0.76 and timestep=0.0001\n"
     ]
    },
    {
     "name": "stderr",
     "output_type": "stream",
     "text": [
      "Computing reference solution: 100%|██████████| 1000/1000 [00:00<00:00, 7435.22it/s]"
     ]
    },
    {
     "name": "stdout",
     "output_type": "stream",
     "text": [
      "Reference solution computed in 0.14 seconds\n",
      "Done setting up problem\n"
     ]
    },
    {
     "name": "stderr",
     "output_type": "stream",
     "text": [
      "\n"
     ]
    }
   ],
   "source": [
    "# Create a sample environment to get dimensions\n",
    "\n",
    "env = env_manager.create_single_env(\n",
    "    end_time=end_time,\n",
    "    fixed_temperature=fixed_temperature,\n",
    "    fixed_pressure=fixed_pressure,\n",
    "    fixed_phi=fixed_phi,\n",
    "    randomize=False,\n",
    "    fixed_dt=fixed_dt\n",
    ")\n",
    "state_dim = env.observation_space.shape[0]\n",
    "action_dim = env.action_space.n\n",
    "\n",
    "envs = {}\n",
    "for i in range(action_dim):\n",
    "    envs[i] = env_manager.create_single_env(\n",
    "        end_time=end_time,\n",
    "        fixed_temperature=fixed_temperature,\n",
    "        fixed_pressure=fixed_pressure,\n",
    "        fixed_phi=fixed_phi,\n",
    "        randomize=False,\n",
    "        fixed_dt=fixed_dt\n",
    "    )\n",
    "\n",
    "# Initialize PPO agent\n",
    "agent = PPO(\n",
    "    state_dim=state_dim,\n",
    "    action_dim=action_dim,\n",
    "    lr_actor=env_args.learning_rate,\n",
    "    lr_critic=env_args.learning_rate,\n",
    "    gamma=0.99,\n",
    "    K_epochs=10,\n",
    "    eps_clip=0.2,\n",
    "    has_continuous_action_space=False\n",
    ")\n",
    "\n",
    "# Set up device\n",
    "device = torch.device('cuda:0' if torch.cuda.is_available() else 'cpu')"
   ]
  },
  {
   "cell_type": "code",
   "execution_count": 10,
   "metadata": {},
   "outputs": [
    {
     "data": {
      "text/plain": [
       "(9,)"
      ]
     },
     "execution_count": 10,
     "metadata": {},
     "output_type": "execute_result"
    }
   ],
   "source": [
    "obs, info = env.reset()\n",
    "\n",
    "obs.shape\n",
    "\n",
    "\n",
    "\n"
   ]
  },
  {
   "cell_type": "code",
   "execution_count": 11,
   "metadata": {},
   "outputs": [
    {
     "data": {
      "text/plain": [
       "array([ 1.0263938 ,  0.76      , -1.        , -0.03403139, -1.        ,\n",
       "       -1.        , -1.        , -1.        , -1.        ], dtype=float32)"
      ]
     },
     "execution_count": 11,
     "metadata": {},
     "output_type": "execute_result"
    }
   ],
   "source": [
    "obs"
   ]
  }
 ],
 "metadata": {
  "kernelspec": {
   "display_name": "ember-build",
   "language": "python",
   "name": "python3"
  },
  "language_info": {
   "codemirror_mode": {
    "name": "ipython",
    "version": 3
   },
   "file_extension": ".py",
   "mimetype": "text/x-python",
   "name": "python",
   "nbconvert_exporter": "python",
   "pygments_lexer": "ipython3",
   "version": "3.9.21"
  }
 },
 "nbformat": 4,
 "nbformat_minor": 2
}
