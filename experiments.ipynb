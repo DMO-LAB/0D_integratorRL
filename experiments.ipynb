{
 "cells": [
  {
   "cell_type": "code",
   "execution_count": null,
   "metadata": {},
   "outputs": [],
   "source": [
    "import os\n",
    "import time\n",
    "import numpy as np\n",
    "import torch\n",
    "from typing import Dict, List, Optional\n",
    "import random\n",
    "from config.default_config import Args\n",
    "from agents.ppo_ import PPO\n",
    "from environment.env_wrapper import EnvManager\n",
    "from utils.logging_utils import Logger\n",
    "from utils.evaluation_utils import evaluate_policy, run_episode\n",
    "from matplotlib import pyplot as plt"
   ]
  },
  {
   "cell_type": "code",
   "execution_count": 2,
   "metadata": {},
   "outputs": [],
   "source": [
    "args = Args()"
   ]
  },
  {
   "cell_type": "code",
   "execution_count": 3,
   "metadata": {},
   "outputs": [],
   "source": [
    "def setup_experiment(args):\n",
    "    \"\"\"Set up experiment directory and logging.\"\"\"\n",
    "    # Create unique experiment name\n",
    "    run_name = f\"{args.exp_name}_{args.seed}_{int(time.time())}\"\n",
    "    \n",
    "    # Set up working directory\n",
    "    work_dir = os.path.join(\"runs\", run_name)\n",
    "    os.makedirs(work_dir, exist_ok=True)\n",
    "    \n",
    "    # Initialize logger\n",
    "    logger = Logger(args, run_name, work_dir)\n",
    "    \n",
    "    # Set random seeds\n",
    "    random.seed(args.seed)\n",
    "    np.random.seed(args.seed)\n",
    "    torch.manual_seed(args.seed)\n",
    "    torch.backends.cudnn.deterministic = args.torch_deterministic\n",
    "    \n",
    "    return run_name, work_dir, logger\n",
    "run_name, work_dir, logger = setup_experiment(args)\n",
    "env_manager = EnvManager(args)\n",
    "env = env_manager.create_single_env()\n",
    "# remove the zeros from the reference solution\n",
    "env.problem.reference_solution['temperatures'] = env.problem.reference_solution['temperatures'][env.problem.reference_solution['temperatures'] != 0]\n",
    "plt.plot(env.problem.reference_solution['temperatures'])"
   ]
  },
  {
   "cell_type": "code",
   "execution_count": 4,
   "metadata": {},
   "outputs": [],
   "source": []
  },
  {
   "cell_type": "code",
   "execution_count": null,
   "metadata": {},
   "outputs": [],
   "source": []
  },
  {
   "cell_type": "code",
   "execution_count": 34,
   "metadata": {},
   "outputs": [],
   "source": [
    "\n",
    "# Initialize PPO agent\n",
    "agent = PPO(\n",
    "    state_dim=env.observation_space.shape[0],\n",
    "    action_dim=env.action_space.n,\n",
    "    lr_actor=args.learning_rate,\n",
    "    lr_critic=args.learning_rate,\n",
    "    gamma=args.gamma,\n",
    "    K_epochs=args.update_epochs,\n",
    "    eps_clip=args.clip_coef,\n",
    "    has_continuous_action_space=False\n",
    ")\n",
    "\n",
    "\n",
    "# trained_model_path = \"/Users/elotech/Documents/CODES/SCI-ML/intRL/ppo/runs/combustion_ppo_7_1741830754/checkpoint_50.pth\"\n",
    "\n",
    "# agent.load(trained_model_path)"
   ]
  },
  {
   "cell_type": "code",
   "execution_count": null,
   "metadata": {},
   "outputs": [],
   "source": [
    "import numpy as np\n",
    "import torch\n",
    "from tqdm import tqdm\n",
    "import time\n",
    "from scipy.spatial.distance import cdist\n",
    "\n",
    "def collect_data_with_vectorized_filtering(env, action, distance_threshold=0.1):\n",
    "    \"\"\"\n",
    "    Collect data for a specific integrator action but only keep significantly different observations\n",
    "    using vectorized operations for much faster filtering.\n",
    "    \n",
    "    Parameters:\n",
    "    -----------\n",
    "    env : gym.Env\n",
    "        Environment to collect data from\n",
    "    action : int\n",
    "        Integrator action (0 for RK, 1 for BDF)\n",
    "    distance_threshold : float\n",
    "        L2 norm threshold for keeping an observation\n",
    "        \n",
    "    Returns:\n",
    "    --------\n",
    "    numpy.ndarray\n",
    "        Filtered observation-action history\n",
    "    float\n",
    "        Total reward\n",
    "    float\n",
    "        Total error\n",
    "    float\n",
    "        Total CPU time\n",
    "    float\n",
    "        Total time reward\n",
    "    float\n",
    "        Total error reward\n",
    "    \"\"\"\n",
    "    observation, info = env.reset()\n",
    "    obs_action_history = []\n",
    "    filtered_history = []\n",
    "    done = False\n",
    "    total_reward = 0\n",
    "    total_error = 0\n",
    "    total_time = 0\n",
    "    total_time_reward = 0\n",
    "    total_error_reward = 0\n",
    "    \n",
    "    # Initialize buffer for filtered observations (only the observation part)\n",
    "    filtered_obs_buffer = np.empty((0, len(observation)))\n",
    "    \n",
    "    while not done:\n",
    "        try:\n",
    "            obs, reward, terminated, truncated, info = env.step(action)\n",
    "            done = terminated or truncated\n",
    "            \n",
    "            # Store the complete information\n",
    "            combined_info = np.concatenate((obs, [action], [reward], [info['error']], \n",
    "                                           [info['cpu_time']], [info['time_reward']], \n",
    "                                           [info['error_reward']]))\n",
    "            \n",
    "            # Check if observation is significantly different from all previous ones\n",
    "            current_obs = obs.reshape(1, -1)  # Reshape for cdist\n",
    "            \n",
    "            if len(filtered_obs_buffer) > 0:\n",
    "                # Calculate pairwise distances between current observation and all filtered observations\n",
    "                distances = cdist(current_obs, filtered_obs_buffer, 'euclidean')[0]\n",
    "                \n",
    "                # If minimum distance exceeds threshold, keep the observation\n",
    "                if np.min(distances) >= distance_threshold:\n",
    "                    filtered_history.append(combined_info)\n",
    "                    filtered_obs_buffer = np.vstack((filtered_obs_buffer, current_obs))\n",
    "            else:\n",
    "                # First observation is always kept\n",
    "                filtered_history.append(combined_info)\n",
    "                filtered_obs_buffer = np.vstack((filtered_obs_buffer, current_obs))\n",
    "            \n",
    "            # Always track total metrics\n",
    "            obs_action_history.append(combined_info)\n",
    "            total_reward += reward\n",
    "            total_error += info['error']\n",
    "            total_time += info['cpu_time']\n",
    "            total_time_reward += info['time_reward']\n",
    "            total_error_reward += info['error_reward']\n",
    "            \n",
    "        except Exception as e:\n",
    "            print(f\"Exception during data collection: {e}\")\n",
    "            done = True\n",
    "    \n",
    "    if len(obs_action_history) > 0:\n",
    "        print(f\"Kept {len(filtered_history)} out of {len(obs_action_history)} observations \"\n",
    "              f\"({100 * len(filtered_history) / len(obs_action_history):.2f}%)\")\n",
    "    \n",
    "    return np.array(filtered_history) if filtered_history else np.empty((0, len(combined_info) if 'combined_info' in locals() else 0)), \\\n",
    "           total_reward, total_error, total_time, total_time_reward, total_error_reward\n",
    "\n",
    "\n",
    "def combine_optimal_data_vectorized(rk_history, bdf_history, metric='reward', distance_threshold=0.1):\n",
    "    \"\"\"\n",
    "    Combine data from RK and BDF integrators using vectorized operations,\n",
    "    keeping only the observations where the chosen metric is optimal.\n",
    "    \n",
    "    Parameters:\n",
    "    -----------\n",
    "    rk_history : numpy.ndarray\n",
    "        History data from RK integrator, shape (timesteps, features)\n",
    "    bdf_history : numpy.ndarray\n",
    "        History data from BDF integrator, shape (timesteps, features)\n",
    "    metric : str\n",
    "        Metric to use for selection: 'reward', 'error', 'cpu_time', 'time_reward', 'error_reward'\n",
    "    distance_threshold : float\n",
    "        L2 norm threshold for considering observations as similar\n",
    "        \n",
    "    Returns:\n",
    "    --------\n",
    "    numpy.ndarray\n",
    "        Combined history with optimal entries based on metric\n",
    "    numpy.ndarray\n",
    "        Integrator choice for each timestep (0 for RK, 1 for BDF)\n",
    "    dict\n",
    "        Statistics about integrator usage\n",
    "    \"\"\"\n",
    "    # Handle empty cases\n",
    "    if len(rk_history) == 0 and len(bdf_history) == 0:\n",
    "        return np.array([]), np.array([]), {\"error\": \"Both histories are empty\"}\n",
    "    \n",
    "    if len(rk_history) == 0:\n",
    "        # Only BDF data is available\n",
    "        obs_dim = bdf_history.shape[1] - 6\n",
    "        combined_history = bdf_history\n",
    "        integrator_choices = np.ones(len(bdf_history), dtype=int)\n",
    "        \n",
    "        stats = {\n",
    "            'rk_usage_percentage': 0.0,\n",
    "            'bdf_usage_percentage': 100.0,\n",
    "            'total_timesteps': len(bdf_history),\n",
    "            'rk_timesteps': 0,\n",
    "            'bdf_timesteps': len(bdf_history)\n",
    "        }\n",
    "        return combined_history, integrator_choices, stats\n",
    "    \n",
    "    if len(bdf_history) == 0:\n",
    "        # Only RK data is available\n",
    "        obs_dim = rk_history.shape[1] - 6\n",
    "        combined_history = rk_history\n",
    "        integrator_choices = np.zeros(len(rk_history), dtype=int)\n",
    "        \n",
    "        stats = {\n",
    "            'rk_usage_percentage': 100.0,\n",
    "            'bdf_usage_percentage': 0.0,\n",
    "            'total_timesteps': len(rk_history),\n",
    "            'rk_timesteps': len(rk_history),\n",
    "            'bdf_timesteps': 0\n",
    "        }\n",
    "        return combined_history, integrator_choices, stats\n",
    "    \n",
    "    # Both histories have data\n",
    "    # Extract dimensions and metric indices\n",
    "    obs_dim = min(rk_history.shape[1], bdf_history.shape[1]) - 6\n",
    "    \n",
    "    metric_indices = {\n",
    "        'reward': obs_dim + 1,\n",
    "        'error': obs_dim + 2,\n",
    "        'cpu_time': obs_dim + 3,\n",
    "        'time_reward': obs_dim + 4,\n",
    "        'error_reward': obs_dim + 5,\n",
    "    }\n",
    "    \n",
    "    if metric not in metric_indices:\n",
    "        raise ValueError(f\"Unknown metric: {metric}\")\n",
    "    \n",
    "    # For negative metrics (like error, cpu_time), we want to minimize\n",
    "    negative_metrics = ['error', 'cpu_time']\n",
    "    idx = metric_indices[metric]\n",
    "    error_idx = metric_indices['error']\n",
    "    error_threshold = 1e-3  # Error threshold for deciding BDF is better\n",
    "    \n",
    "    # Extract observations for distance calculations\n",
    "    rk_obs = rk_history[:, :obs_dim]\n",
    "    bdf_obs = bdf_history[:, :obs_dim]\n",
    "    \n",
    "    # Calculate all pairwise distances between RK and BDF observations\n",
    "    # This is the most computationally intensive part, but it's vectorized\n",
    "    print(\"Calculating pairwise distances between RK and BDF observations...\")\n",
    "    start_time = time.time()\n",
    "    distances = cdist(rk_obs, bdf_obs, 'euclidean')\n",
    "    print(f\"Distance calculation completed in {time.time() - start_time:.2f} seconds\")\n",
    "    \n",
    "    # Find nearest BDF observation for each RK observation\n",
    "    min_distances = np.min(distances, axis=1)\n",
    "    nearest_bdf_indices = np.argmin(distances, axis=1)\n",
    "    \n",
    "    # Determine which observations have a close match\n",
    "    has_match_mask = min_distances < distance_threshold\n",
    "    \n",
    "    # Initialize arrays for combined history\n",
    "    combined_entries = []\n",
    "    processed_bdf_indices = set()\n",
    "    \n",
    "    # Process RK observations with matches to BDF\n",
    "    for i, has_match in enumerate(has_match_mask):\n",
    "        if has_match:\n",
    "            bdf_idx = nearest_bdf_indices[i]\n",
    "            processed_bdf_indices.add(bdf_idx)\n",
    "            \n",
    "            # Compare metrics to decide which is better\n",
    "            rk_metric_value = rk_history[i, idx]\n",
    "            bdf_metric_value = bdf_history[bdf_idx, idx]\n",
    "            \n",
    "            rk_error = rk_history[i, error_idx]\n",
    "            bdf_error = bdf_history[bdf_idx, error_idx]\n",
    "            \n",
    "            # Determine which is better\n",
    "            if metric in negative_metrics:\n",
    "                is_bdf_better = bdf_metric_value < rk_metric_value\n",
    "            else:\n",
    "                is_bdf_better = bdf_metric_value > rk_metric_value\n",
    "            \n",
    "            # Special case: If RK error is above threshold and BDF error is below, prefer BDF\n",
    "            if rk_error >= error_threshold and bdf_error <= error_threshold:\n",
    "                is_bdf_better = True\n",
    "            \n",
    "            if is_bdf_better:\n",
    "                combined_entries.append(bdf_history[bdf_idx])\n",
    "            else:\n",
    "                combined_entries.append(rk_history[i])\n",
    "        else:\n",
    "            # No close match, keep RK observation\n",
    "            combined_entries.append(rk_history[i])\n",
    "    \n",
    "    # Add remaining BDF observations that weren't matched\n",
    "    remaining_bdf_indices = [i for i in range(len(bdf_history)) if i not in processed_bdf_indices]\n",
    "    \n",
    "    # For remaining BDF entries, check if they're far enough from all combined entries so far\n",
    "    if combined_entries:\n",
    "        combined_obs = np.array([entry[:obs_dim] for entry in combined_entries])\n",
    "        \n",
    "        for i in remaining_bdf_indices:\n",
    "            bdf_entry_obs = bdf_history[i, :obs_dim].reshape(1, -1)\n",
    "            \n",
    "            # Calculate distances to existing combined observations\n",
    "            entry_distances = cdist(bdf_entry_obs, combined_obs, 'euclidean')[0]\n",
    "            \n",
    "            # If minimum distance exceeds threshold, it's a unique observation\n",
    "            if np.min(entry_distances) >= distance_threshold:\n",
    "                combined_entries.append(bdf_history[i])\n",
    "    else:\n",
    "        # No combined entries yet, add all remaining BDF entries\n",
    "        for i in remaining_bdf_indices:\n",
    "            combined_entries.append(bdf_history[i])\n",
    "    \n",
    "    # Convert to numpy array\n",
    "    if combined_entries:\n",
    "        combined_history = np.array(combined_entries)\n",
    "        \n",
    "        # Extract the actions to determine integrator choices\n",
    "        integrator_choices = combined_history[:, obs_dim].astype(int)\n",
    "        \n",
    "        # Calculate statistics\n",
    "        rk_count = np.sum(integrator_choices == 0)\n",
    "        bdf_count = np.sum(integrator_choices == 1)\n",
    "        total_count = len(integrator_choices)\n",
    "        \n",
    "        stats = {\n",
    "            'rk_usage_percentage': 100 * rk_count / total_count if total_count > 0 else 0,\n",
    "            'bdf_usage_percentage': 100 * bdf_count / total_count if total_count > 0 else 0,\n",
    "            'total_timesteps': total_count,\n",
    "            'rk_timesteps': rk_count,\n",
    "            'bdf_timesteps': bdf_count,\n",
    "            'original_rk_count': len(rk_history),\n",
    "            'original_bdf_count': len(bdf_history),\n",
    "            'reduction_percentage': 100 * (1 - total_count / (len(rk_history) + len(bdf_history)))\n",
    "        }\n",
    "        \n",
    "        return combined_history, integrator_choices, stats\n",
    "    else:\n",
    "        return np.array([]), np.array([]), {\"error\": \"No entries matched criteria\"}\n",
    "\n",
    "\n",
    "def collect_optimal_data_online_vectorized(env_manager, metric='reward', num_episodes=10, \n",
    "                                           distance_threshold=0.1, verbose=True):\n",
    "    \"\"\"\n",
    "    Collect data using vectorized operations for filtering similar observations.\n",
    "    \n",
    "    Parameters:\n",
    "    -----------\n",
    "    env_manager : EnvManager\n",
    "        Environment manager to create environments\n",
    "    metric : str\n",
    "        Metric to use for selection: 'reward', 'error', 'cpu_time', 'time_reward', 'error_reward'\n",
    "    num_episodes : int\n",
    "        Number of episodes to collect\n",
    "    distance_threshold : float\n",
    "        L2 norm threshold for keeping an observation\n",
    "    verbose : bool\n",
    "        Whether to print detailed progress information\n",
    "        \n",
    "    Returns:\n",
    "    --------\n",
    "    list\n",
    "        List of combined history arrays\n",
    "    dict\n",
    "        Overall statistics\n",
    "    \"\"\"\n",
    "    all_combined_history = []\n",
    "    overall_stats = {\n",
    "        'total_rk_timesteps': 0,\n",
    "        'total_bdf_timesteps': 0,\n",
    "        'total_original_observations': 0,\n",
    "        'total_filtered_observations': 0,\n",
    "        'episodes_completed': 0,\n",
    "        'computation_time': 0\n",
    "    }\n",
    "    \n",
    "    start_time = time.time()\n",
    "    \n",
    "    for episode in tqdm(range(num_episodes), desc=\"Collecting filtered optimal data\"):\n",
    "        if verbose:\n",
    "            print(f\"\\nCollecting data for episode {episode+1}/{num_episodes}\")\n",
    "        \n",
    "        try:\n",
    "            episode_start = time.time()\n",
    "            \n",
    "            # Create a new environment for each episode\n",
    "            env = env_manager.create_single_env()\n",
    "            \n",
    "            # Collect data for both integrators with filtering\n",
    "            rk_history, rk_reward, rk_error, rk_time, rk_time_reward, rk_error_reward = collect_data_with_vectorized_filtering(\n",
    "                env, 0, distance_threshold=distance_threshold\n",
    "            )\n",
    "            \n",
    "            bdf_history, bdf_reward, bdf_error, bdf_time, bdf_time_reward, bdf_error_reward = collect_data_with_vectorized_filtering(\n",
    "                env, 1, distance_threshold=distance_threshold\n",
    "            )\n",
    "            \n",
    "            # Combine data keeping only the optimal integrator for each observation\n",
    "            combined_history, integrator_choices, stats = combine_optimal_data_vectorized(\n",
    "                rk_history=rk_history,\n",
    "                bdf_history=bdf_history,\n",
    "                metric=metric,\n",
    "                distance_threshold=distance_threshold\n",
    "            )\n",
    "            \n",
    "            # Calculate episode time\n",
    "            episode_time = time.time() - episode_start\n",
    "            overall_stats['computation_time'] += episode_time\n",
    "            \n",
    "            # Update overall statistics\n",
    "            overall_stats['total_rk_timesteps'] += stats.get('rk_timesteps', 0)\n",
    "            overall_stats['total_bdf_timesteps'] += stats.get('bdf_timesteps', 0)\n",
    "            overall_stats['total_filtered_observations'] += len(combined_history)\n",
    "            overall_stats['total_original_observations'] += stats.get('original_rk_count', 0) + stats.get('original_bdf_count', 0)\n",
    "            overall_stats['episodes_completed'] += 1\n",
    "            \n",
    "            # Print episode stats\n",
    "            if verbose or episode % 10 == 0:\n",
    "                rk_count = stats.get('rk_timesteps', 0)\n",
    "                bdf_count = stats.get('bdf_timesteps', 0)\n",
    "                print(f\"Episode {episode+1} results ({episode_time:.2f}s):\")\n",
    "                print(f\"  Original observations: RK={stats.get('original_rk_count', 0)}, BDF={stats.get('original_bdf_count', 0)}\")\n",
    "                print(f\"  Unique observations after filtering: {len(combined_history)}\")\n",
    "                print(f\"  Reduction: {stats.get('reduction_percentage', 0):.1f}%\")\n",
    "                print(f\"  Final distribution: RK={rk_count} ({stats.get('rk_usage_percentage', 0):.1f}%), \"\n",
    "                      f\"BDF={bdf_count} ({stats.get('bdf_usage_percentage', 0):.1f}%)\")\n",
    "            \n",
    "            # Add to collection\n",
    "            if len(combined_history) > 0:\n",
    "                all_combined_history.append(combined_history)\n",
    "        \n",
    "        except Exception as e:\n",
    "            print(f\"Error in episode {episode+1}: {e}\")\n",
    "    \n",
    "    # Calculate final statistics\n",
    "    elapsed_time = time.time() - start_time\n",
    "    all_observations = 0\n",
    "    if all_combined_history:\n",
    "        all_observations = sum(len(history) for history in all_combined_history)\n",
    "    \n",
    "    overall_stats['total_observations'] = all_observations\n",
    "    overall_stats['collection_time'] = elapsed_time\n",
    "    overall_stats['computation_percentage'] = 100 * overall_stats['computation_time'] / elapsed_time if elapsed_time > 0 else 0\n",
    "    overall_stats['observations_per_second'] = all_observations / elapsed_time if elapsed_time > 0 else 0\n",
    "    overall_stats['average_observations_per_episode'] = all_observations / overall_stats['episodes_completed'] if overall_stats['episodes_completed'] > 0 else 0\n",
    "    \n",
    "    total_timesteps = overall_stats['total_rk_timesteps'] + overall_stats['total_bdf_timesteps']\n",
    "    if total_timesteps > 0:\n",
    "        overall_stats['final_rk_percentage'] = 100 * overall_stats['total_rk_timesteps'] / total_timesteps\n",
    "        overall_stats['final_bdf_percentage'] = 100 * overall_stats['total_bdf_timesteps'] / total_timesteps\n",
    "    \n",
    "    if overall_stats['total_original_observations'] > 0:\n",
    "        overall_stats['total_reduction_percentage'] = 100 * (1 - all_observations / overall_stats['total_original_observations'])\n",
    "    \n",
    "    # Print overall stats\n",
    "    print(\"\\nData collection complete!\")\n",
    "    print(f\"Collected {all_observations} unique observations from {overall_stats['episodes_completed']} episodes\")\n",
    "    print(f\"Total original observations: {overall_stats['total_original_observations']}\")\n",
    "    print(f\"Reduction: {overall_stats.get('total_reduction_percentage', 0):.1f}%\")\n",
    "    print(f\"RK usage: {overall_stats['total_rk_timesteps']} timesteps ({overall_stats.get('final_rk_percentage', 0):.1f}%)\")\n",
    "    print(f\"BDF usage: {overall_stats['total_bdf_timesteps']} timesteps ({overall_stats.get('final_bdf_percentage', 0):.1f}%)\")\n",
    "    print(f\"Total time: {elapsed_time:.1f}s (computation: {overall_stats['computation_time']:.1f}s, {overall_stats['computation_percentage']:.1f}%)\")\n",
    "    print(f\"Processing speed: {overall_stats['observations_per_second']:.1f} obs/sec\")\n",
    "    \n",
    "    return all_combined_history, overall_stats\n",
    "\n",
    "\n",
    "# Example usage:\n",
    "if __name__ == \"__main__\":\n",
    "    # Import environment manager\n",
    "    from environment.env_wrapper import EnvManager\n",
    "    from config.default_config import Args\n",
    "    \n",
    "    # Initialize environment manager\n",
    "    args = Args()\n",
    "    env_manager = EnvManager(args, single_env=True)\n",
    "    \n",
    "    # Collect filtered optimal data with vectorized operations\n",
    "    filtered_data, stats = collect_optimal_data_online_vectorized(\n",
    "        env_manager=env_manager,\n",
    "        metric='reward',  # Use 'reward', 'error', 'cpu_time', etc.\n",
    "        num_episodes=100,\n",
    "        distance_threshold=0.001  # Adjust this threshold based on your observation space\n",
    "    )\n",
    "    \n"
   ]
  },
  {
   "cell_type": "code",
   "execution_count": 203,
   "metadata": {},
   "outputs": [
    {
     "name": "stdout",
     "output_type": "stream",
     "text": [
      "Final dataset shape: (30036, 16)\n",
      "Dataset saved to 'pretraining_dataset_filtered.npy'\n"
     ]
    }
   ],
   "source": [
    "# Concatenate all episodes\n",
    "if filtered_data:\n",
    "    pretraining_dataset = np.concatenate(filtered_data, axis=0)\n",
    "    print(f\"Final dataset shape: {pretraining_dataset.shape}\")\n",
    "    \n",
    "    # Save the dataset\n",
    "    np.save('pretraining_dataset_filtered.npy', pretraining_dataset)\n",
    "    print(\"Dataset saved to 'pretraining_dataset_filtered.npy'\")\n",
    "else:\n",
    "    print(\"No data collected.\")"
   ]
  },
  {
   "cell_type": "code",
   "execution_count": 211,
   "metadata": {},
   "outputs": [
    {
     "name": "stdout",
     "output_type": "stream",
     "text": [
      "(array([0., 1.]), array([19330, 10706]))\n"
     ]
    }
   ],
   "source": [
    "# check the action distribution\n",
    "print(np.unique(pretraining_dataset[:, 10], return_counts=True))\n"
   ]
  },
  {
   "cell_type": "code",
   "execution_count": 212,
   "metadata": {},
   "outputs": [],
   "source": [
    "import torch\n",
    "import torch.nn as nn\n",
    "import torch.optim as optim\n",
    "import numpy as np\n",
    "from torch.utils.data import Dataset, DataLoader\n",
    "import matplotlib.pyplot as plt\n",
    "from tqdm import tqdm\n",
    "import os\n",
    "\n",
    "class IntegratorDataset(Dataset):\n",
    "    \"\"\"Dataset for pretraining the PPO actor with optimal integrator choices.\"\"\"\n",
    "    \n",
    "    def __init__(self, data, obs_dim):\n",
    "        \"\"\"\n",
    "        Initialize dataset from collected optimal integrator data.\n",
    "        \n",
    "        Parameters:\n",
    "        -----------\n",
    "        data : numpy.ndarray\n",
    "            Combined history data with structure: [obs, action, reward, error, cpu_time, time_reward, error_reward]\n",
    "        obs_dim : int\n",
    "            Dimension of the observation space\n",
    "        \"\"\"\n",
    "        self.data = data\n",
    "        self.obs_dim = obs_dim\n",
    "        \n",
    "        # CHECK the distribution of the actions\n",
    "        print(np.unique(data[:, obs_dim], return_counts=True))\n",
    "        \n",
    "        # Extract observations and actions from the combined data\n",
    "        self.states = data[:, :obs_dim]\n",
    "        self.actions = data[:, obs_dim].astype(np.int64)  # Extract actions (already 0 or 1)\n",
    "        \n",
    "    def __len__(self):\n",
    "        return len(self.states)\n",
    "    \n",
    "    def __getitem__(self, idx):\n",
    "        return self.states[idx], self.actions[idx]\n",
    "\n",
    "\n",
    "def pretrain_ppo_actor(agent, dataset_path, obs_dim, batch_size=64, epochs=10, \n",
    "                       learning_rate=1e-4, save_path=None, device=None):\n",
    "    \"\"\"\n",
    "    Pretrain the PPO actor network using supervised learning on optimal integrator data.\n",
    "    \n",
    "    Parameters:\n",
    "    -----------\n",
    "    agent : PPO\n",
    "        The PPO agent with actor network to be pretrained\n",
    "    dataset_path : str\n",
    "        Path to the numpy array containing the pretraining dataset\n",
    "    obs_dim : int\n",
    "        Dimension of the observation space\n",
    "    batch_size : int\n",
    "        Batch size for training\n",
    "    epochs : int\n",
    "        Number of epochs to train\n",
    "    learning_rate : float\n",
    "        Learning rate for the optimizer\n",
    "    save_path : str, optional\n",
    "        Path to save the pretrained model (if None, doesn't save)\n",
    "    device : torch.device, optional\n",
    "        Device to use for training (if None, uses agent's device)\n",
    "        \n",
    "    Returns:\n",
    "    --------\n",
    "    list\n",
    "        Training loss history\n",
    "    \"\"\"\n",
    "    if device is None:\n",
    "        device = torch.device('cuda:0' if torch.cuda.is_available() else 'cpu')\n",
    "    \n",
    "    # Load dataset\n",
    "    print(f\"Loading dataset from {dataset_path}\")\n",
    "    data = np.load(dataset_path)\n",
    "    print(f\"Dataset shape: {data.shape}\")\n",
    "    \n",
    "    # Create dataset and dataloader\n",
    "    integrator_dataset = IntegratorDataset(data, obs_dim)\n",
    "    dataloader = DataLoader(integrator_dataset, batch_size=batch_size, shuffle=True)\n",
    "    \n",
    "    # Extract the actor network from the agent\n",
    "    actor = agent.policy.actor\n",
    "    actor.to(device)\n",
    "    actor.train()\n",
    "    \n",
    "    # Setup optimizer and loss function\n",
    "    optimizer = optim.Adam(actor.parameters(), lr=learning_rate)\n",
    "    criterion = nn.CrossEntropyLoss()\n",
    "    \n",
    "    # Training loop\n",
    "    loss_history = []\n",
    "    \n",
    "    print(f\"Starting pretraining for {epochs} epochs\")\n",
    "    for epoch in range(epochs):\n",
    "        epoch_loss = 0\n",
    "        correct = 0\n",
    "        total = 0\n",
    "        \n",
    "        for states, actions in tqdm(dataloader, desc=f\"Epoch {epoch+1}/{epochs}\", leave=False):\n",
    "            states = states.float().to(device)\n",
    "            actions = actions.to(device)\n",
    "            \n",
    "            # Forward pass\n",
    "            action_probs = actor(states)\n",
    "            loss = criterion(action_probs, actions)\n",
    "            \n",
    "            # Backward pass and optimize\n",
    "            optimizer.zero_grad()\n",
    "            loss.backward()\n",
    "            optimizer.step()\n",
    "            \n",
    "            # Calculate accuracy\n",
    "            _, predicted = torch.max(action_probs.data, 1)\n",
    "            total += actions.size(0)\n",
    "            correct += (predicted == actions).sum().item()\n",
    "            \n",
    "            epoch_loss += loss.item()\n",
    "        \n",
    "        # Calculate average loss and accuracy for the epoch\n",
    "        avg_loss = epoch_loss / len(dataloader)\n",
    "        accuracy = 100 * correct / total\n",
    "        loss_history.append(avg_loss)\n",
    "        \n",
    "        print(f\"Epoch {epoch+1}/{epochs}, Loss: {avg_loss:.4f}, Accuracy: {accuracy:.2f}%\")\n",
    "    \n",
    "    # Save pretrained model if path is provided\n",
    "    if save_path is not None:\n",
    "        os.makedirs(os.path.dirname(save_path), exist_ok=True)\n",
    "        torch.save(actor.state_dict(), save_path)\n",
    "        print(f\"Pretrained model saved to {save_path}\")\n",
    "    \n",
    "    return loss_history\n",
    "\n",
    "\n",
    "def load_pretrained_actor(agent, pretrained_path, device=None):\n",
    "    \"\"\"\n",
    "    Load pretrained weights into the PPO actor network.\n",
    "    \n",
    "    Parameters:\n",
    "    -----------\n",
    "    agent : PPO\n",
    "        The PPO agent to load pretrained weights into\n",
    "    pretrained_path : str\n",
    "        Path to the pretrained model weights\n",
    "    device : torch.device, optional\n",
    "        Device to load the model to\n",
    "    \"\"\"\n",
    "    if device is None:\n",
    "        device = torch.device('cuda:0' if torch.cuda.is_available() else 'cpu')\n",
    "    \n",
    "    # Load pretrained weights\n",
    "    state_dict = torch.load(pretrained_path, map_location=device)\n",
    "    \n",
    "    # Load weights into both policy and policy_old actors\n",
    "    agent.policy.actor.load_state_dict(state_dict)\n",
    "    agent.policy_old.actor.load_state_dict(state_dict)\n",
    "    \n",
    "    print(f\"Loaded pretrained actor weights from {pretrained_path}\")\n",
    "\n",
    "\n",
    "def plot_pretraining_results(loss_history, save_path=None):\n",
    "    \"\"\"\n",
    "    Plot training loss history.\n",
    "    \n",
    "    Parameters:\n",
    "    -----------\n",
    "    loss_history : list\n",
    "        List of loss values per epoch\n",
    "    save_path : str, optional\n",
    "        Path to save the plot\n",
    "    \"\"\"\n",
    "    plt.figure(figsize=(10, 6))\n",
    "    plt.plot(loss_history, marker='o')\n",
    "    plt.title('Pretraining Loss')\n",
    "    plt.xlabel('Epoch')\n",
    "    plt.ylabel('Loss')\n",
    "    plt.grid(True)\n",
    "    \n",
    "    if save_path is not None:\n",
    "        plt.savefig(save_path)\n",
    "        print(f\"Plot saved to {save_path}\")\n",
    "    \n",
    "    plt.show()\n",
    "\n",
    "\n",
    "def evaluate_pretrained_policy(agent, env, num_episodes=5, render=False):\n",
    "    \"\"\"\n",
    "    Evaluate the pretrained policy.\n",
    "    \n",
    "    Parameters:\n",
    "    -----------\n",
    "    agent : PPO\n",
    "        The PPO agent with pretrained actor\n",
    "    env : gym.Env\n",
    "        Environment to evaluate in\n",
    "    num_episodes : int\n",
    "        Number of episodes to evaluate\n",
    "    render : bool\n",
    "        Whether to render the environment\n",
    "        \n",
    "    Returns:\n",
    "    --------\n",
    "    dict\n",
    "        Evaluation statistics\n",
    "    \"\"\"\n",
    "    total_rewards = []\n",
    "    action_distribution = {0: 0, 1: 0}  # 0 for RK, 1 for BDF\n",
    "    \n",
    "    for episode in range(num_episodes):\n",
    "        obs, _ = env.reset()\n",
    "        done = False\n",
    "        episode_reward = 0\n",
    "        \n",
    "        while not done:\n",
    "            # Use deterministic policy (argmax) for evaluation\n",
    "            action = agent.select_action(obs, deterministic=True, store_in_buffer=False)\n",
    "            action_distribution[action] += 1\n",
    "            \n",
    "            obs, reward, terminated, truncated, info = env.step(action)\n",
    "            done = terminated or truncated\n",
    "            episode_reward += reward\n",
    "            \n",
    "            if render:\n",
    "                env.render()\n",
    "        \n",
    "        total_rewards.append(episode_reward)\n",
    "        print(f\"Episode {episode+1}: Reward = {episode_reward:.2f}\")\n",
    "    \n",
    "    # Calculate statistics\n",
    "    mean_reward = np.mean(total_rewards)\n",
    "    std_reward = np.std(total_rewards)\n",
    "    total_actions = sum(action_distribution.values())\n",
    "    action_percentages = {k: (v / total_actions) * 100 for k, v in action_distribution.items()}\n",
    "    \n",
    "    stats = {\n",
    "        'mean_reward': mean_reward,\n",
    "        'std_reward': std_reward,\n",
    "        'min_reward': np.min(total_rewards),\n",
    "        'max_reward': np.max(total_rewards),\n",
    "        'action_distribution': action_distribution,\n",
    "        'action_percentages': action_percentages\n",
    "    }\n",
    "    \n",
    "    print(f\"\\nEvaluation Results (over {num_episodes} episodes):\")\n",
    "    print(f\"Mean Reward: {mean_reward:.2f} ± {std_reward:.2f}\")\n",
    "    print(f\"Action Distribution: RK = {action_percentages[0]:.1f}%, BDF = {action_percentages[1]:.1f}%\")\n",
    "    \n",
    "    return stats\n",
    "\n",
    "\n"
   ]
  },
  {
   "cell_type": "code",
   "execution_count": 218,
   "metadata": {},
   "outputs": [
    {
     "name": "stdout",
     "output_type": "stream",
     "text": [
      "Combustion problem initialized with T=1400.0, P=101325.0, phi=0.7 and timestep=1e-06\n"
     ]
    },
    {
     "name": "stderr",
     "output_type": "stream",
     "text": [
      "Computing reference solution: 100%|██████████| 2000/2000 [00:00<00:00, 12030.42it/s]\n"
     ]
    },
    {
     "name": "stdout",
     "output_type": "stream",
     "text": [
      "Reference solution computed in 0.17 seconds\n",
      "Environment 0 created with T=1400.0, P=101325.0, phi=0.7 and timestep=1e-06\n",
      "Combustion problem initialized with T=500.0, P=101325.0, phi=0.7999999999999999 and timestep=0.001\n"
     ]
    },
    {
     "name": "stderr",
     "output_type": "stream",
     "text": [
      "Computing reference solution: 100%|██████████| 50/50 [00:00<00:00, 10429.96it/s]\n"
     ]
    },
    {
     "name": "stdout",
     "output_type": "stream",
     "text": [
      "Reference solution computed in 0.01 seconds\n",
      "Using device: cpu\n",
      "Loading dataset from pretraining_dataset_filtered.npy\n",
      "Dataset shape: (30036, 16)\n",
      "\n",
      "Action distribution in train set:\n",
      "  Action 0: 15463 samples (64.35%)\n",
      "  Action 1: 8565 samples (35.65%)\n",
      "\n",
      "Action distribution in test set:\n",
      "  Action 0: 3867 samples (64.36%)\n",
      "  Action 1: 2141 samples (35.64%)\n",
      "\n",
      "Train set: 24028 samples (80.0%)\n",
      "Test set: 6008 samples (20.0%)\n",
      "Action distribution in dataset:\n",
      "  Action 0: 15463 samples (64.35%)\n",
      "  Action 1: 8565 samples (35.65%)\n",
      "Action distribution in dataset:\n",
      "  Action 0: 3867 samples (64.36%)\n",
      "  Action 1: 2141 samples (35.64%)\n",
      "Starting pretraining for up to 50 epochs with early stopping (patience=7)\n"
     ]
    },
    {
     "name": "stderr",
     "output_type": "stream",
     "text": [
      "                                                                     \r"
     ]
    },
    {
     "name": "stdout",
     "output_type": "stream",
     "text": [
      "Epoch 1/50\n",
      "  Train Loss: 0.6332, Train Accuracy: 65.09%\n",
      "  Test Loss: 0.6113, Test Accuracy: 69.04%\n",
      "  New best model! (Test Loss: 0.6113)\n"
     ]
    },
    {
     "name": "stderr",
     "output_type": "stream",
     "text": [
      "                                                                     \r"
     ]
    },
    {
     "name": "stdout",
     "output_type": "stream",
     "text": [
      "Epoch 2/50\n",
      "  Train Loss: 0.5990, Train Accuracy: 70.26%\n",
      "  Test Loss: 0.5856, Test Accuracy: 73.17%\n",
      "  New best model! (Test Loss: 0.5856)\n"
     ]
    },
    {
     "name": "stderr",
     "output_type": "stream",
     "text": [
      "                                                                     \r"
     ]
    },
    {
     "name": "stdout",
     "output_type": "stream",
     "text": [
      "Epoch 3/50\n",
      "  Train Loss: 0.5871, Train Accuracy: 72.05%\n",
      "  Test Loss: 0.5775, Test Accuracy: 73.25%\n",
      "  New best model! (Test Loss: 0.5775)\n"
     ]
    },
    {
     "name": "stderr",
     "output_type": "stream",
     "text": [
      "                                                                     \r"
     ]
    },
    {
     "name": "stdout",
     "output_type": "stream",
     "text": [
      "Epoch 4/50\n",
      "  Train Loss: 0.5822, Train Accuracy: 72.62%\n",
      "  Test Loss: 0.5738, Test Accuracy: 73.55%\n",
      "  New best model! (Test Loss: 0.5738)\n"
     ]
    },
    {
     "name": "stderr",
     "output_type": "stream",
     "text": [
      "                                                                     \r"
     ]
    },
    {
     "name": "stdout",
     "output_type": "stream",
     "text": [
      "Epoch 5/50\n",
      "  Train Loss: 0.5784, Train Accuracy: 72.73%\n",
      "  Test Loss: 0.5758, Test Accuracy: 72.90%\n",
      "  No improvement for 1 epochs. Best Test Loss: 0.5738 at epoch 4\n"
     ]
    },
    {
     "name": "stderr",
     "output_type": "stream",
     "text": [
      "                                                                     \r"
     ]
    },
    {
     "name": "stdout",
     "output_type": "stream",
     "text": [
      "Epoch 6/50\n",
      "  Train Loss: 0.5767, Train Accuracy: 72.81%\n",
      "  Test Loss: 0.5755, Test Accuracy: 73.04%\n",
      "  No improvement for 2 epochs. Best Test Loss: 0.5738 at epoch 4\n"
     ]
    },
    {
     "name": "stderr",
     "output_type": "stream",
     "text": [
      "                                                                     \r"
     ]
    },
    {
     "name": "stdout",
     "output_type": "stream",
     "text": [
      "Epoch 7/50\n",
      "  Train Loss: 0.5768, Train Accuracy: 72.94%\n",
      "  Test Loss: 0.5720, Test Accuracy: 73.50%\n",
      "  New best model! (Test Loss: 0.5720)\n"
     ]
    },
    {
     "name": "stderr",
     "output_type": "stream",
     "text": [
      "                                                                     \r"
     ]
    },
    {
     "name": "stdout",
     "output_type": "stream",
     "text": [
      "Epoch 8/50\n",
      "  Train Loss: 0.5757, Train Accuracy: 73.09%\n",
      "  Test Loss: 0.5680, Test Accuracy: 74.02%\n",
      "  New best model! (Test Loss: 0.5680)\n"
     ]
    },
    {
     "name": "stderr",
     "output_type": "stream",
     "text": [
      "                                                                     \r"
     ]
    },
    {
     "name": "stdout",
     "output_type": "stream",
     "text": [
      "Epoch 9/50\n",
      "  Train Loss: 0.5755, Train Accuracy: 72.99%\n",
      "  Test Loss: 0.5672, Test Accuracy: 74.08%\n",
      "  New best model! (Test Loss: 0.5672)\n"
     ]
    },
    {
     "name": "stderr",
     "output_type": "stream",
     "text": [
      "                                                                      \r"
     ]
    },
    {
     "name": "stdout",
     "output_type": "stream",
     "text": [
      "Epoch 10/50\n",
      "  Train Loss: 0.5751, Train Accuracy: 73.16%\n",
      "  Test Loss: 0.5663, Test Accuracy: 74.27%\n",
      "  New best model! (Test Loss: 0.5663)\n"
     ]
    },
    {
     "name": "stderr",
     "output_type": "stream",
     "text": [
      "                                                                      \r"
     ]
    },
    {
     "name": "stdout",
     "output_type": "stream",
     "text": [
      "Epoch 11/50\n",
      "  Train Loss: 0.5749, Train Accuracy: 73.21%\n",
      "  Test Loss: 0.5669, Test Accuracy: 74.38%\n",
      "  No improvement for 1 epochs. Best Test Loss: 0.5663 at epoch 10\n"
     ]
    },
    {
     "name": "stderr",
     "output_type": "stream",
     "text": [
      "                                                                      \r"
     ]
    },
    {
     "name": "stdout",
     "output_type": "stream",
     "text": [
      "Epoch 12/50\n",
      "  Train Loss: 0.5746, Train Accuracy: 73.31%\n",
      "  Test Loss: 0.5688, Test Accuracy: 73.74%\n",
      "  No improvement for 2 epochs. Best Test Loss: 0.5663 at epoch 10\n"
     ]
    },
    {
     "name": "stderr",
     "output_type": "stream",
     "text": [
      "                                                                      \r"
     ]
    },
    {
     "name": "stdout",
     "output_type": "stream",
     "text": [
      "Epoch 13/50\n",
      "  Train Loss: 0.5744, Train Accuracy: 73.30%\n",
      "  Test Loss: 0.5677, Test Accuracy: 73.98%\n",
      "  No improvement for 3 epochs. Best Test Loss: 0.5663 at epoch 10\n"
     ]
    },
    {
     "name": "stderr",
     "output_type": "stream",
     "text": [
      "                                                                      \r"
     ]
    },
    {
     "name": "stdout",
     "output_type": "stream",
     "text": [
      "Epoch 14/50\n",
      "  Train Loss: 0.5744, Train Accuracy: 73.32%\n",
      "  Test Loss: 0.5661, Test Accuracy: 74.53%\n",
      "  New best model! (Test Loss: 0.5661)\n"
     ]
    },
    {
     "name": "stderr",
     "output_type": "stream",
     "text": [
      "                                                                      \r"
     ]
    },
    {
     "name": "stdout",
     "output_type": "stream",
     "text": [
      "Epoch 15/50\n",
      "  Train Loss: 0.5738, Train Accuracy: 73.35%\n",
      "  Test Loss: 0.5657, Test Accuracy: 74.18%\n",
      "  New best model! (Test Loss: 0.5657)\n"
     ]
    },
    {
     "name": "stderr",
     "output_type": "stream",
     "text": [
      "                                                                      \r"
     ]
    },
    {
     "name": "stdout",
     "output_type": "stream",
     "text": [
      "Epoch 16/50\n",
      "  Train Loss: 0.5732, Train Accuracy: 73.41%\n",
      "  Test Loss: 0.5677, Test Accuracy: 73.78%\n",
      "  No improvement for 1 epochs. Best Test Loss: 0.5657 at epoch 15\n"
     ]
    },
    {
     "name": "stderr",
     "output_type": "stream",
     "text": [
      "                                                                      \r"
     ]
    },
    {
     "name": "stdout",
     "output_type": "stream",
     "text": [
      "Epoch 17/50\n",
      "  Train Loss: 0.5745, Train Accuracy: 73.28%\n",
      "  Test Loss: 0.5648, Test Accuracy: 74.27%\n",
      "  New best model! (Test Loss: 0.5648)\n"
     ]
    },
    {
     "name": "stderr",
     "output_type": "stream",
     "text": [
      "                                                                      \r"
     ]
    },
    {
     "name": "stdout",
     "output_type": "stream",
     "text": [
      "Epoch 18/50\n",
      "  Train Loss: 0.5728, Train Accuracy: 73.49%\n",
      "  Test Loss: 0.5697, Test Accuracy: 73.55%\n",
      "  No improvement for 1 epochs. Best Test Loss: 0.5648 at epoch 17\n"
     ]
    },
    {
     "name": "stderr",
     "output_type": "stream",
     "text": [
      "                                                                      \r"
     ]
    },
    {
     "name": "stdout",
     "output_type": "stream",
     "text": [
      "Epoch 19/50\n",
      "  Train Loss: 0.5733, Train Accuracy: 73.34%\n",
      "  Test Loss: 0.5654, Test Accuracy: 74.08%\n",
      "  No improvement for 2 epochs. Best Test Loss: 0.5648 at epoch 17\n"
     ]
    },
    {
     "name": "stderr",
     "output_type": "stream",
     "text": [
      "                                                                     \r"
     ]
    },
    {
     "name": "stdout",
     "output_type": "stream",
     "text": [
      "Epoch 20/50\n",
      "  Train Loss: 0.5729, Train Accuracy: 73.55%\n",
      "  Test Loss: 0.5642, Test Accuracy: 74.25%\n",
      "  New best model! (Test Loss: 0.5642)\n"
     ]
    },
    {
     "name": "stderr",
     "output_type": "stream",
     "text": [
      "                                                                      \r"
     ]
    },
    {
     "name": "stdout",
     "output_type": "stream",
     "text": [
      "Epoch 21/50\n",
      "  Train Loss: 0.5725, Train Accuracy: 73.41%\n",
      "  Test Loss: 0.5648, Test Accuracy: 74.15%\n",
      "  No improvement for 1 epochs. Best Test Loss: 0.5642 at epoch 20\n"
     ]
    },
    {
     "name": "stderr",
     "output_type": "stream",
     "text": [
      "                                                                      \r"
     ]
    },
    {
     "name": "stdout",
     "output_type": "stream",
     "text": [
      "Epoch 22/50\n",
      "  Train Loss: 0.5720, Train Accuracy: 73.48%\n",
      "  Test Loss: 0.5661, Test Accuracy: 74.12%\n",
      "  No improvement for 2 epochs. Best Test Loss: 0.5642 at epoch 20\n"
     ]
    },
    {
     "name": "stderr",
     "output_type": "stream",
     "text": [
      "                                                                      \r"
     ]
    },
    {
     "name": "stdout",
     "output_type": "stream",
     "text": [
      "Epoch 23/50\n",
      "  Train Loss: 0.5717, Train Accuracy: 73.60%\n",
      "  Test Loss: 0.5644, Test Accuracy: 74.63%\n",
      "  No improvement for 3 epochs. Best Test Loss: 0.5642 at epoch 20\n"
     ]
    },
    {
     "name": "stderr",
     "output_type": "stream",
     "text": [
      "                                                                     \r"
     ]
    },
    {
     "name": "stdout",
     "output_type": "stream",
     "text": [
      "Epoch 24/50\n",
      "  Train Loss: 0.5719, Train Accuracy: 73.47%\n",
      "  Test Loss: 0.5626, Test Accuracy: 74.50%\n",
      "  New best model! (Test Loss: 0.5626)\n"
     ]
    },
    {
     "name": "stderr",
     "output_type": "stream",
     "text": [
      "                                                                      \r"
     ]
    },
    {
     "name": "stdout",
     "output_type": "stream",
     "text": [
      "Epoch 25/50\n",
      "  Train Loss: 0.5708, Train Accuracy: 73.59%\n",
      "  Test Loss: 0.5621, Test Accuracy: 74.52%\n",
      "  New best model! (Test Loss: 0.5621)\n"
     ]
    },
    {
     "name": "stderr",
     "output_type": "stream",
     "text": [
      "                                                                      \r"
     ]
    },
    {
     "name": "stdout",
     "output_type": "stream",
     "text": [
      "Epoch 26/50\n",
      "  Train Loss: 0.5705, Train Accuracy: 73.61%\n",
      "  Test Loss: 0.5660, Test Accuracy: 73.77%\n",
      "  No improvement for 1 epochs. Best Test Loss: 0.5621 at epoch 25\n"
     ]
    },
    {
     "name": "stderr",
     "output_type": "stream",
     "text": [
      "                                                                      \r"
     ]
    },
    {
     "name": "stdout",
     "output_type": "stream",
     "text": [
      "Epoch 27/50\n",
      "  Train Loss: 0.5701, Train Accuracy: 73.62%\n",
      "  Test Loss: 0.5616, Test Accuracy: 74.60%\n",
      "  New best model! (Test Loss: 0.5616)\n"
     ]
    },
    {
     "name": "stderr",
     "output_type": "stream",
     "text": [
      "                                                                      \r"
     ]
    },
    {
     "name": "stdout",
     "output_type": "stream",
     "text": [
      "Epoch 28/50\n",
      "  Train Loss: 0.5687, Train Accuracy: 73.77%\n",
      "  Test Loss: 0.5591, Test Accuracy: 74.92%\n",
      "  New best model! (Test Loss: 0.5591)\n"
     ]
    },
    {
     "name": "stderr",
     "output_type": "stream",
     "text": [
      "                                                                      \r"
     ]
    },
    {
     "name": "stdout",
     "output_type": "stream",
     "text": [
      "Epoch 29/50\n",
      "  Train Loss: 0.5677, Train Accuracy: 73.97%\n",
      "  Test Loss: 0.5584, Test Accuracy: 75.13%\n",
      "  New best model! (Test Loss: 0.5584)\n"
     ]
    },
    {
     "name": "stderr",
     "output_type": "stream",
     "text": [
      "                                                                      \r"
     ]
    },
    {
     "name": "stdout",
     "output_type": "stream",
     "text": [
      "Epoch 30/50\n",
      "  Train Loss: 0.5664, Train Accuracy: 74.03%\n",
      "  Test Loss: 0.5612, Test Accuracy: 74.32%\n",
      "  No improvement for 1 epochs. Best Test Loss: 0.5584 at epoch 29\n"
     ]
    },
    {
     "name": "stderr",
     "output_type": "stream",
     "text": [
      "                                                                      \r"
     ]
    },
    {
     "name": "stdout",
     "output_type": "stream",
     "text": [
      "Epoch 31/50\n",
      "  Train Loss: 0.5657, Train Accuracy: 74.03%\n",
      "  Test Loss: 0.5604, Test Accuracy: 74.83%\n",
      "  No improvement for 2 epochs. Best Test Loss: 0.5584 at epoch 29\n"
     ]
    },
    {
     "name": "stderr",
     "output_type": "stream",
     "text": [
      "                                                                      \r"
     ]
    },
    {
     "name": "stdout",
     "output_type": "stream",
     "text": [
      "Epoch 32/50\n",
      "  Train Loss: 0.5641, Train Accuracy: 74.21%\n",
      "  Test Loss: 0.5549, Test Accuracy: 75.58%\n",
      "  New best model! (Test Loss: 0.5549)\n"
     ]
    },
    {
     "name": "stderr",
     "output_type": "stream",
     "text": [
      "                                                                      \r"
     ]
    },
    {
     "name": "stdout",
     "output_type": "stream",
     "text": [
      "Epoch 33/50\n",
      "  Train Loss: 0.5633, Train Accuracy: 74.32%\n",
      "  Test Loss: 0.5548, Test Accuracy: 75.47%\n",
      "  New best model! (Test Loss: 0.5548)\n"
     ]
    },
    {
     "name": "stderr",
     "output_type": "stream",
     "text": [
      "                                                                     \r"
     ]
    },
    {
     "name": "stdout",
     "output_type": "stream",
     "text": [
      "Epoch 34/50\n",
      "  Train Loss: 0.5614, Train Accuracy: 74.42%\n",
      "  Test Loss: 0.5516, Test Accuracy: 75.38%\n",
      "  New best model! (Test Loss: 0.5516)\n"
     ]
    },
    {
     "name": "stderr",
     "output_type": "stream",
     "text": [
      "                                                                      \r"
     ]
    },
    {
     "name": "stdout",
     "output_type": "stream",
     "text": [
      "Epoch 35/50\n",
      "  Train Loss: 0.5596, Train Accuracy: 74.55%\n",
      "  Test Loss: 0.5519, Test Accuracy: 75.63%\n",
      "  No improvement for 1 epochs. Best Test Loss: 0.5516 at epoch 34\n"
     ]
    },
    {
     "name": "stderr",
     "output_type": "stream",
     "text": [
      "                                                                      \r"
     ]
    },
    {
     "name": "stdout",
     "output_type": "stream",
     "text": [
      "Epoch 36/50\n",
      "  Train Loss: 0.5585, Train Accuracy: 74.70%\n",
      "  Test Loss: 0.5502, Test Accuracy: 75.48%\n",
      "  New best model! (Test Loss: 0.5502)\n"
     ]
    },
    {
     "name": "stderr",
     "output_type": "stream",
     "text": [
      "                                                                      \r"
     ]
    },
    {
     "name": "stdout",
     "output_type": "stream",
     "text": [
      "Epoch 37/50\n",
      "  Train Loss: 0.5570, Train Accuracy: 74.70%\n",
      "  Test Loss: 0.5492, Test Accuracy: 76.05%\n",
      "  New best model! (Test Loss: 0.5492)\n"
     ]
    },
    {
     "name": "stderr",
     "output_type": "stream",
     "text": [
      "                                                                      \r"
     ]
    },
    {
     "name": "stdout",
     "output_type": "stream",
     "text": [
      "Epoch 38/50\n",
      "  Train Loss: 0.5568, Train Accuracy: 74.73%\n",
      "  Test Loss: 0.5497, Test Accuracy: 75.80%\n",
      "  No improvement for 1 epochs. Best Test Loss: 0.5492 at epoch 37\n"
     ]
    },
    {
     "name": "stderr",
     "output_type": "stream",
     "text": [
      "                                                                      \r"
     ]
    },
    {
     "name": "stdout",
     "output_type": "stream",
     "text": [
      "Epoch 39/50\n",
      "  Train Loss: 0.5551, Train Accuracy: 74.96%\n",
      "  Test Loss: 0.5469, Test Accuracy: 75.85%\n",
      "  New best model! (Test Loss: 0.5469)\n"
     ]
    },
    {
     "name": "stderr",
     "output_type": "stream",
     "text": [
      "                                                                      \r"
     ]
    },
    {
     "name": "stdout",
     "output_type": "stream",
     "text": [
      "Epoch 40/50\n",
      "  Train Loss: 0.5543, Train Accuracy: 75.01%\n",
      "  Test Loss: 0.5463, Test Accuracy: 76.30%\n",
      "  New best model! (Test Loss: 0.5463)\n"
     ]
    },
    {
     "name": "stderr",
     "output_type": "stream",
     "text": [
      "                                                                      \r"
     ]
    },
    {
     "name": "stdout",
     "output_type": "stream",
     "text": [
      "Epoch 41/50\n",
      "  Train Loss: 0.5535, Train Accuracy: 75.07%\n",
      "  Test Loss: 0.5447, Test Accuracy: 76.31%\n",
      "  New best model! (Test Loss: 0.5447)\n"
     ]
    },
    {
     "name": "stderr",
     "output_type": "stream",
     "text": [
      "                                                                      \r"
     ]
    },
    {
     "name": "stdout",
     "output_type": "stream",
     "text": [
      "Epoch 42/50\n",
      "  Train Loss: 0.5524, Train Accuracy: 75.20%\n",
      "  Test Loss: 0.5440, Test Accuracy: 76.61%\n",
      "  New best model! (Test Loss: 0.5440)\n"
     ]
    },
    {
     "name": "stderr",
     "output_type": "stream",
     "text": [
      "                                                                      \r"
     ]
    },
    {
     "name": "stdout",
     "output_type": "stream",
     "text": [
      "Epoch 43/50\n",
      "  Train Loss: 0.5518, Train Accuracy: 75.29%\n",
      "  Test Loss: 0.5435, Test Accuracy: 76.22%\n",
      "  New best model! (Test Loss: 0.5435)\n"
     ]
    },
    {
     "name": "stderr",
     "output_type": "stream",
     "text": [
      "                                                                      \r"
     ]
    },
    {
     "name": "stdout",
     "output_type": "stream",
     "text": [
      "Epoch 44/50\n",
      "  Train Loss: 0.5499, Train Accuracy: 75.38%\n",
      "  Test Loss: 0.5421, Test Accuracy: 76.86%\n",
      "  New best model! (Test Loss: 0.5421)\n"
     ]
    },
    {
     "name": "stderr",
     "output_type": "stream",
     "text": [
      "                                                                      \r"
     ]
    },
    {
     "name": "stdout",
     "output_type": "stream",
     "text": [
      "Epoch 45/50\n",
      "  Train Loss: 0.5491, Train Accuracy: 75.37%\n",
      "  Test Loss: 0.5411, Test Accuracy: 76.76%\n",
      "  New best model! (Test Loss: 0.5411)\n"
     ]
    },
    {
     "name": "stderr",
     "output_type": "stream",
     "text": [
      "                                                                      \r"
     ]
    },
    {
     "name": "stdout",
     "output_type": "stream",
     "text": [
      "Epoch 46/50\n",
      "  Train Loss: 0.5474, Train Accuracy: 75.42%\n",
      "  Test Loss: 0.5468, Test Accuracy: 75.50%\n",
      "  No improvement for 1 epochs. Best Test Loss: 0.5411 at epoch 45\n"
     ]
    },
    {
     "name": "stderr",
     "output_type": "stream",
     "text": [
      "                                                                      \r"
     ]
    },
    {
     "name": "stdout",
     "output_type": "stream",
     "text": [
      "Epoch 47/50\n",
      "  Train Loss: 0.5452, Train Accuracy: 75.58%\n",
      "  Test Loss: 0.5377, Test Accuracy: 77.16%\n",
      "  New best model! (Test Loss: 0.5377)\n"
     ]
    },
    {
     "name": "stderr",
     "output_type": "stream",
     "text": [
      "                                                                      \r"
     ]
    },
    {
     "name": "stdout",
     "output_type": "stream",
     "text": [
      "Epoch 48/50\n",
      "  Train Loss: 0.5424, Train Accuracy: 75.88%\n",
      "  Test Loss: 0.5425, Test Accuracy: 75.92%\n",
      "  No improvement for 1 epochs. Best Test Loss: 0.5377 at epoch 47\n"
     ]
    },
    {
     "name": "stderr",
     "output_type": "stream",
     "text": [
      "                                                                      \r"
     ]
    },
    {
     "name": "stdout",
     "output_type": "stream",
     "text": [
      "Epoch 49/50\n",
      "  Train Loss: 0.5404, Train Accuracy: 76.06%\n",
      "  Test Loss: 0.5341, Test Accuracy: 77.68%\n",
      "  New best model! (Test Loss: 0.5341)\n"
     ]
    },
    {
     "name": "stderr",
     "output_type": "stream",
     "text": [
      "                                                                      \r"
     ]
    },
    {
     "name": "stdout",
     "output_type": "stream",
     "text": [
      "Epoch 50/50\n",
      "  Train Loss: 0.5390, Train Accuracy: 76.20%\n",
      "  Test Loss: 0.5345, Test Accuracy: 77.41%\n",
      "  No improvement for 1 epochs. Best Test Loss: 0.5341 at epoch 49\n",
      "Loaded best model from epoch 49\n",
      "Pretrained model saved to pretraining_results/models/pretrained_actor.pth\n",
      "Best model (epoch 49) saved to pretraining_results/models/best_pretrained_actor.pth\n",
      "Training metrics plot saved to pretraining_results/plots/training_metrics.png\n"
     ]
    },
    {
     "data": {
      "image/png": "[encoded data removed]",
      "text/plain": [
       "<Figure size 1200x500 with 2 Axes>"
      ]
     },
     "metadata": {},
     "output_type": "display_data"
    },
    {
     "name": "stdout",
     "output_type": "stream",
     "text": [
      "Evaluating pretrained policy for 20 episodes...\n",
      "Combustion problem initialized with T=600.0, P=101325.0, phi=0.7 and timestep=0.0001\n"
     ]
    },
    {
     "name": "stderr",
     "output_type": "stream",
     "text": [
      "Computing reference solution: 100%|██████████| 500/500 [00:00<00:00, 4429.01it/s]"
     ]
    },
    {
     "name": "stdout",
     "output_type": "stream",
     "text": [
      "Reference solution computed in 0.11 seconds\n"
     ]
    },
    {
     "name": "stderr",
     "output_type": "stream",
     "text": [
      "\n"
     ]
    },
    {
     "name": "stdout",
     "output_type": "stream",
     "text": [
      "Episode 1: Reward = 423.28, Steps = 499\n",
      "Combustion problem initialized with T=700.0, P=101325.0, phi=0.8999999999999999 and timestep=0.0001\n"
     ]
    },
    {
     "name": "stderr",
     "output_type": "stream",
     "text": [
      "Computing reference solution: 100%|██████████| 500/500 [00:00<00:00, 11093.11it/s]"
     ]
    },
    {
     "name": "stdout",
     "output_type": "stream",
     "text": [
      "Reference solution computed in 0.05 seconds\n"
     ]
    },
    {
     "name": "stderr",
     "output_type": "stream",
     "text": [
      "\n"
     ]
    },
    {
     "name": "stdout",
     "output_type": "stream",
     "text": [
      "Episode 2: Reward = 421.11, Steps = 499\n",
      "Combustion problem initialized with T=800.0, P=101325.0, phi=0.7 and timestep=0.001\n"
     ]
    },
    {
     "name": "stderr",
     "output_type": "stream",
     "text": [
      "Computing reference solution: 100%|██████████| 50/50 [00:00<00:00, 7547.24it/s]\n"
     ]
    },
    {
     "name": "stdout",
     "output_type": "stream",
     "text": [
      "Reference solution computed in 0.01 seconds\n",
      "Episode 3: Reward = 39.64, Steps = 49\n",
      "Combustion problem initialized with T=500.0, P=101325.0, phi=0.5 and timestep=0.0001\n"
     ]
    },
    {
     "name": "stderr",
     "output_type": "stream",
     "text": [
      "Computing reference solution: 100%|██████████| 500/500 [00:00<00:00, 11681.93it/s]"
     ]
    },
    {
     "name": "stdout",
     "output_type": "stream",
     "text": [
      "Reference solution computed in 0.04 seconds\n"
     ]
    },
    {
     "name": "stderr",
     "output_type": "stream",
     "text": [
      "\n"
     ]
    },
    {
     "name": "stdout",
     "output_type": "stream",
     "text": [
      "Episode 4: Reward = 425.64, Steps = 499\n",
      "Combustion problem initialized with T=1200.0, P=101325.0, phi=1.1999999999999997 and timestep=1e-05\n"
     ]
    },
    {
     "name": "stderr",
     "output_type": "stream",
     "text": [
      "Computing reference solution: 100%|██████████| 200/200 [00:00<00:00, 7761.62it/s]"
     ]
    },
    {
     "name": "stdout",
     "output_type": "stream",
     "text": [
      "Reference solution computed in 0.03 seconds\n"
     ]
    },
    {
     "name": "stderr",
     "output_type": "stream",
     "text": [
      "\n"
     ]
    },
    {
     "name": "stdout",
     "output_type": "stream",
     "text": [
      "Episode 5: Reward = 158.54, Steps = 199\n",
      "Combustion problem initialized with T=1000.0, P=101325.0, phi=0.5 and timestep=0.0001\n"
     ]
    },
    {
     "name": "stderr",
     "output_type": "stream",
     "text": [
      "Computing reference solution: 100%|██████████| 500/500 [00:00<00:00, 8979.73it/s]"
     ]
    },
    {
     "name": "stdout",
     "output_type": "stream",
     "text": [
      "Reference solution computed in 0.06 seconds\n"
     ]
    },
    {
     "name": "stderr",
     "output_type": "stream",
     "text": [
      "\n"
     ]
    },
    {
     "name": "stdout",
     "output_type": "stream",
     "text": [
      "Episode 6: Reward = 451.93, Steps = 499\n",
      "Combustion problem initialized with T=600.0, P=101325.0, phi=1.4 and timestep=0.001\n"
     ]
    },
    {
     "name": "stderr",
     "output_type": "stream",
     "text": [
      "Computing reference solution: 100%|██████████| 50/50 [00:00<00:00, 8727.59it/s]\n"
     ]
    },
    {
     "name": "stdout",
     "output_type": "stream",
     "text": [
      "Reference solution computed in 0.01 seconds\n",
      "Episode 7: Reward = 41.54, Steps = 49\n",
      "Combustion problem initialized with T=1500.0, P=101325.0, phi=1.0999999999999999 and timestep=1e-06\n"
     ]
    },
    {
     "name": "stderr",
     "output_type": "stream",
     "text": [
      "Computing reference solution: 100%|██████████| 2000/2000 [00:00<00:00, 8977.78it/s]\n"
     ]
    },
    {
     "name": "stdout",
     "output_type": "stream",
     "text": [
      "Reference solution computed in 0.22 seconds\n",
      "State changed to IGNITION at step 1269\n",
      "State changed to POSTIGNITION at step 1410\n",
      "Episode 8: Reward = 607.22, Steps = 1999\n",
      "Combustion problem initialized with T=500.0, P=101325.0, phi=0.5 and timestep=0.001\n"
     ]
    },
    {
     "name": "stderr",
     "output_type": "stream",
     "text": [
      "Computing reference solution: 100%|██████████| 50/50 [00:00<00:00, 5900.99it/s]"
     ]
    },
    {
     "name": "stdout",
     "output_type": "stream",
     "text": [
      "Reference solution computed in 0.01 seconds\n",
      "Episode 9: Reward = 40.33, Steps = 49\n",
      "Combustion problem initialized with T=1200.0, P=101325.0, phi=0.7 and timestep=1e-05\n"
     ]
    },
    {
     "name": "stderr",
     "output_type": "stream",
     "text": [
      "\n",
      "Computing reference solution: 100%|██████████| 200/200 [00:00<00:00, 5246.59it/s]\n"
     ]
    },
    {
     "name": "stdout",
     "output_type": "stream",
     "text": [
      "Reference solution computed in 0.04 seconds\n",
      "Episode 10: Reward = 171.03, Steps = 199\n",
      "Combustion problem initialized with T=600.0, P=101325.0, phi=1.2999999999999998 and timestep=0.001\n"
     ]
    },
    {
     "name": "stderr",
     "output_type": "stream",
     "text": [
      "Computing reference solution: 100%|██████████| 50/50 [00:00<00:00, 9169.08it/s]\n"
     ]
    },
    {
     "name": "stdout",
     "output_type": "stream",
     "text": [
      "Reference solution computed in 0.01 seconds\n",
      "Episode 11: Reward = 41.46, Steps = 49\n",
      "Combustion problem initialized with T=800.0, P=101325.0, phi=0.9999999999999999 and timestep=0.0001\n"
     ]
    },
    {
     "name": "stderr",
     "output_type": "stream",
     "text": [
      "Computing reference solution: 100%|██████████| 500/500 [00:00<00:00, 11151.45it/s]\n"
     ]
    },
    {
     "name": "stdout",
     "output_type": "stream",
     "text": [
      "Reference solution computed in 0.05 seconds\n",
      "Episode 12: Reward = 424.68, Steps = 499\n",
      "Combustion problem initialized with T=300.0, P=101325.0, phi=0.7999999999999999 and timestep=0.0001\n"
     ]
    },
    {
     "name": "stderr",
     "output_type": "stream",
     "text": [
      "Computing reference solution: 100%|██████████| 500/500 [00:00<00:00, 12014.55it/s]"
     ]
    },
    {
     "name": "stdout",
     "output_type": "stream",
     "text": [
      "Reference solution computed in 0.04 seconds\n"
     ]
    },
    {
     "name": "stderr",
     "output_type": "stream",
     "text": [
      "\n"
     ]
    },
    {
     "name": "stdout",
     "output_type": "stream",
     "text": [
      "Episode 13: Reward = 421.70, Steps = 499\n",
      "Combustion problem initialized with T=1400.0, P=101325.0, phi=1.4999999999999998 and timestep=1e-05\n"
     ]
    },
    {
     "name": "stderr",
     "output_type": "stream",
     "text": [
      "Computing reference solution: 100%|██████████| 200/200 [00:00<00:00, 6030.07it/s]"
     ]
    },
    {
     "name": "stdout",
     "output_type": "stream",
     "text": [
      "Reference solution computed in 0.03 seconds\n"
     ]
    },
    {
     "name": "stderr",
     "output_type": "stream",
     "text": [
      "\n"
     ]
    },
    {
     "name": "stdout",
     "output_type": "stream",
     "text": [
      "Episode 14: Reward = 121.91, Steps = 199\n",
      "Combustion problem initialized with T=1500.0, P=101325.0, phi=0.7999999999999999 and timestep=1e-05\n"
     ]
    },
    {
     "name": "stderr",
     "output_type": "stream",
     "text": [
      "Computing reference solution: 100%|██████████| 200/200 [00:00<00:00, 2637.20it/s]"
     ]
    },
    {
     "name": "stdout",
     "output_type": "stream",
     "text": [
      "Reference solution computed in 0.08 seconds\n"
     ]
    },
    {
     "name": "stderr",
     "output_type": "stream",
     "text": [
      "\n"
     ]
    },
    {
     "name": "stdout",
     "output_type": "stream",
     "text": [
      "State changed to IGNITION at step 97\n",
      "State changed to POSTIGNITION at step 144\n",
      "Episode 15: Reward = -196.43, Steps = 199\n",
      "Combustion problem initialized with T=1400.0, P=101325.0, phi=0.6 and timestep=1e-05\n"
     ]
    },
    {
     "name": "stderr",
     "output_type": "stream",
     "text": [
      "Computing reference solution: 100%|██████████| 200/200 [00:00<00:00, 5766.20it/s]"
     ]
    },
    {
     "name": "stdout",
     "output_type": "stream",
     "text": [
      "Reference solution computed in 0.04 seconds\n"
     ]
    },
    {
     "name": "stderr",
     "output_type": "stream",
     "text": [
      "\n"
     ]
    },
    {
     "name": "stdout",
     "output_type": "stream",
     "text": [
      "Episode 16: Reward = 113.87, Steps = 199\n",
      "Combustion problem initialized with T=800.0, P=101325.0, phi=0.6 and timestep=0.0001\n"
     ]
    },
    {
     "name": "stderr",
     "output_type": "stream",
     "text": [
      "Computing reference solution: 100%|██████████| 500/500 [00:00<00:00, 11317.91it/s]"
     ]
    },
    {
     "name": "stdout",
     "output_type": "stream",
     "text": [
      "Reference solution computed in 0.05 seconds\n"
     ]
    },
    {
     "name": "stderr",
     "output_type": "stream",
     "text": [
      "\n"
     ]
    },
    {
     "name": "stdout",
     "output_type": "stream",
     "text": [
      "Episode 17: Reward = 437.43, Steps = 499\n",
      "Combustion problem initialized with T=600.0, P=101325.0, phi=1.1999999999999997 and timestep=0.001\n"
     ]
    },
    {
     "name": "stderr",
     "output_type": "stream",
     "text": [
      "Computing reference solution: 100%|██████████| 50/50 [00:00<00:00, 9883.37it/s]\n"
     ]
    },
    {
     "name": "stdout",
     "output_type": "stream",
     "text": [
      "Reference solution computed in 0.01 seconds\n",
      "Episode 18: Reward = 41.65, Steps = 49\n",
      "Combustion problem initialized with T=1100.0, P=101325.0, phi=0.5 and timestep=1e-06\n"
     ]
    },
    {
     "name": "stderr",
     "output_type": "stream",
     "text": [
      "Computing reference solution: 100%|██████████| 2000/2000 [00:00<00:00, 12489.61it/s]\n"
     ]
    },
    {
     "name": "stdout",
     "output_type": "stream",
     "text": [
      "Reference solution computed in 0.16 seconds\n",
      "Episode 19: Reward = 1834.45, Steps = 1999\n",
      "Combustion problem initialized with T=800.0, P=101325.0, phi=0.9999999999999999 and timestep=0.001\n"
     ]
    },
    {
     "name": "stderr",
     "output_type": "stream",
     "text": [
      "Computing reference solution: 100%|██████████| 50/50 [00:00<00:00, 7900.07it/s]"
     ]
    },
    {
     "name": "stdout",
     "output_type": "stream",
     "text": [
      "Reference solution computed in 0.01 seconds\n",
      "Episode 20: Reward = 40.78, Steps = 49\n",
      "\n",
      "Evaluation Results:\n",
      "Mean Reward: 303.09 ± 407.37\n",
      "Mean Episode Length: 439.0 steps\n",
      "\n",
      "Overall Action Distribution:\n",
      "  RK: 61.6%, BDF: 38.4%\n",
      "\n",
      "Stage-Specific Action Distribution:\n",
      "  PREIGNITION: RK: 57.6%, BDF: 42.4%\n",
      "  IGNITION: RK: 100.0%, BDF: 0.0%\n",
      "  POSTIGNITION: RK: 100.0%, BDF: 0.0%\n",
      "\n",
      "Integrator Performance Metrics:\n",
      "  RK: Mean Error: 0.000064, Mean CPU Time: 0.001893s\n",
      "  BDF: Mean Error: 0.000001, Mean CPU Time: 0.000972s\n",
      "Evaluation results saved to pretraining_results/eval_stats.npy\n"
     ]
    },
    {
     "name": "stderr",
     "output_type": "stream",
     "text": [
      "\n"
     ]
    },
    {
     "name": "stdout",
     "output_type": "stream",
     "text": [
      "Integrator comparison plot saved to pretraining_results/plots/integrator_comparison.png\n"
     ]
    },
    {
     "data": {
      "image/png": "[encoded data removed]",
      "text/plain": [
       "<Figure size 1400x800 with 4 Axes>"
      ]
     },
     "metadata": {},
     "output_type": "display_data"
    }
   ],
   "source": [
    "import torch\n",
    "import torch.nn as nn\n",
    "import torch.optim as optim\n",
    "import numpy as np\n",
    "from torch.utils.data import Dataset, DataLoader, random_split\n",
    "import matplotlib.pyplot as plt\n",
    "from tqdm import tqdm\n",
    "import os\n",
    "from sklearn.model_selection import train_test_split\n",
    "from sklearn.utils import shuffle\n",
    "\n",
    "class IntegratorDataset(Dataset):\n",
    "    \"\"\"Dataset for pretraining the PPO actor with optimal integrator choices.\"\"\"\n",
    "    \n",
    "    def __init__(self, data, obs_dim):\n",
    "        \"\"\"\n",
    "        Initialize dataset from collected optimal integrator data.\n",
    "        \n",
    "        Parameters:\n",
    "        -----------\n",
    "        data : numpy.ndarray\n",
    "            Combined history data with structure: [obs, action, reward, error, cpu_time, time_reward, error_reward]\n",
    "        obs_dim : int\n",
    "            Dimension of the observation space\n",
    "        \"\"\"\n",
    "        self.data = data\n",
    "        self.obs_dim = obs_dim\n",
    "        \n",
    "        # Extract observations and actions from the combined data\n",
    "        self.states = data[:, :obs_dim]\n",
    "        self.actions = data[:, obs_dim].astype(np.int64)  # Extract actions (already 0 or 1)\n",
    "        \n",
    "        # Check action distribution\n",
    "        unique_actions, counts = np.unique(self.actions, return_counts=True)\n",
    "        total = len(self.actions)\n",
    "        \n",
    "        print(\"Action distribution in dataset:\")\n",
    "        for action, count in zip(unique_actions, counts):\n",
    "            print(f\"  Action {int(action)}: {count} samples ({100 * count / total:.2f}%)\")\n",
    "        \n",
    "    def __len__(self):\n",
    "        return len(self.states)\n",
    "    \n",
    "    def __getitem__(self, idx):\n",
    "        return self.states[idx], self.actions[idx]\n",
    "\n",
    "\n",
    "def randomize_dataset(dataset_path, obs_dim, save_path=None):\n",
    "    \"\"\"\n",
    "    Randomize and shuffle the dataset to improve training.\n",
    "    \n",
    "    Parameters:\n",
    "    -----------\n",
    "    dataset_path : str\n",
    "        Path to the numpy array containing the pretraining dataset\n",
    "    obs_dim : int\n",
    "        Dimension of the observation space\n",
    "    save_path : str, optional\n",
    "        Path to save the randomized dataset\n",
    "        \n",
    "    Returns:\n",
    "    --------\n",
    "    numpy.ndarray\n",
    "        Randomized dataset\n",
    "    \"\"\"\n",
    "    # Load dataset\n",
    "    print(f\"Loading dataset from {dataset_path}\")\n",
    "    data = np.load(dataset_path)\n",
    "    print(f\"Original dataset shape: {data.shape}\")\n",
    "    \n",
    "    # Extract actions\n",
    "    actions = data[:, obs_dim].astype(np.int64)\n",
    "    unique_actions, counts = np.unique(actions, return_counts=True)\n",
    "    \n",
    "    print(\"\\nOriginal action distribution:\")\n",
    "    for action, count in zip(unique_actions, counts):\n",
    "        print(f\"  Action {int(action)}: {count} samples ({100 * count / total:.2f}%)\")\n",
    "    \n",
    "    # Shuffle the dataset\n",
    "    randomized_data = shuffle(data, random_state=42)\n",
    "    \n",
    "    # Save if path is provided\n",
    "    if save_path is not None:\n",
    "        np.save(save_path, randomized_data)\n",
    "        print(f\"Randomized dataset saved to {save_path}\")\n",
    "    \n",
    "    return randomized_data\n",
    "\n",
    "\n",
    "def split_dataset(data, obs_dim, test_size=0.2, balance_actions=True, random_state=42):\n",
    "    \"\"\"\n",
    "    Split dataset into training and test sets with optional balancing of actions.\n",
    "    \n",
    "    Parameters:\n",
    "    -----------\n",
    "    data : numpy.ndarray\n",
    "        Dataset to split\n",
    "    obs_dim : int\n",
    "        Dimension of the observation space\n",
    "    test_size : float\n",
    "        Fraction of the dataset to use for testing\n",
    "    balance_actions : bool\n",
    "        Whether to ensure similar action distributions in train and test sets\n",
    "    random_state : int\n",
    "        Random seed for reproducibility\n",
    "        \n",
    "    Returns:\n",
    "    --------\n",
    "    numpy.ndarray\n",
    "        Training dataset\n",
    "    numpy.ndarray\n",
    "        Test dataset\n",
    "    \"\"\"\n",
    "    # Extract actions for stratification\n",
    "    actions = data[:, obs_dim].astype(np.int64)\n",
    "    \n",
    "    if balance_actions:\n",
    "        # Use stratified split to maintain action distribution\n",
    "        train_indices, test_indices = train_test_split(\n",
    "            np.arange(len(data)),\n",
    "            test_size=test_size,\n",
    "            stratify=actions,\n",
    "            random_state=random_state\n",
    "        )\n",
    "    else:\n",
    "        # Random split without stratification\n",
    "        train_indices, test_indices = train_test_split(\n",
    "            np.arange(len(data)),\n",
    "            test_size=test_size,\n",
    "            random_state=random_state\n",
    "        )\n",
    "    \n",
    "    train_data = data[train_indices]\n",
    "    test_data = data[test_indices]\n",
    "    \n",
    "    # Verify action distribution in splits\n",
    "    train_actions = train_data[:, obs_dim].astype(np.int64)\n",
    "    test_actions = test_data[:, obs_dim].astype(np.int64)\n",
    "    \n",
    "    train_unique, train_counts = np.unique(train_actions, return_counts=True)\n",
    "    test_unique, test_counts = np.unique(test_actions, return_counts=True)\n",
    "    \n",
    "    print(\"\\nAction distribution in train set:\")\n",
    "    for action, count in zip(train_unique, train_counts):\n",
    "        print(f\"  Action {int(action)}: {count} samples ({100 * count / len(train_actions):.2f}%)\")\n",
    "    \n",
    "    print(\"\\nAction distribution in test set:\")\n",
    "    for action, count in zip(test_unique, test_counts):\n",
    "        print(f\"  Action {int(action)}: {count} samples ({100 * count / len(test_actions):.2f}%)\")\n",
    "    \n",
    "    print(f\"\\nTrain set: {len(train_data)} samples ({100 * len(train_data) / len(data):.1f}%)\")\n",
    "    print(f\"Test set: {len(test_data)} samples ({100 * len(test_data) / len(data):.1f}%)\")\n",
    "    \n",
    "    return train_data, test_data\n",
    "\n",
    "\n",
    "def pretrain_ppo_actor_with_validation(agent, dataset_path, obs_dim, batch_size=64, epochs=20,\n",
    "                                       learning_rate=1e-4, test_size=0.2, save_path=None, device=None,\n",
    "                                       patience=5, balance_actions=True):\n",
    "    \"\"\"\n",
    "    Pretrain the PPO actor network with validation and early stopping.\n",
    "    \n",
    "    Parameters:\n",
    "    -----------\n",
    "    agent : PPO\n",
    "        The PPO agent with actor network to be pretrained\n",
    "    dataset_path : str\n",
    "        Path to the numpy array containing the pretraining dataset\n",
    "    obs_dim : int\n",
    "        Dimension of the observation space\n",
    "    batch_size : int\n",
    "        Batch size for training\n",
    "    epochs : int\n",
    "        Maximum number of epochs to train\n",
    "    learning_rate : float\n",
    "        Learning rate for the optimizer\n",
    "    test_size : float\n",
    "        Fraction of the dataset to use for testing\n",
    "    save_path : str, optional\n",
    "        Path to save the pretrained model (if None, doesn't save)\n",
    "    device : torch.device, optional\n",
    "        Device to use for training\n",
    "    patience : int\n",
    "        Number of epochs to wait for improvement before early stopping\n",
    "    balance_actions : bool\n",
    "        Whether to ensure similar action distributions in train and test sets\n",
    "        \n",
    "    Returns:\n",
    "    --------\n",
    "    dict\n",
    "        Training history and metrics\n",
    "    \"\"\"\n",
    "    if device is None:\n",
    "        device = torch.device('cuda:0' if torch.cuda.is_available() else 'cpu')\n",
    "    \n",
    "    print(f\"Using device: {device}\")\n",
    "    \n",
    "    # Load dataset\n",
    "    print(f\"Loading dataset from {dataset_path}\")\n",
    "    data = np.load(dataset_path)\n",
    "    print(f\"Dataset shape: {data.shape}\")\n",
    "    \n",
    "    # Split into train and test sets\n",
    "    train_data, test_data = split_dataset(\n",
    "        data, \n",
    "        obs_dim, \n",
    "        test_size=test_size, \n",
    "        balance_actions=balance_actions\n",
    "    )\n",
    "    \n",
    "    # Create datasets and dataloaders\n",
    "    train_dataset = IntegratorDataset(train_data, obs_dim)\n",
    "    test_dataset = IntegratorDataset(test_data, obs_dim)\n",
    "    \n",
    "    train_loader = DataLoader(train_dataset, batch_size=batch_size, shuffle=True)\n",
    "    test_loader = DataLoader(test_dataset, batch_size=batch_size, shuffle=False)\n",
    "    \n",
    "    # Extract the actor network from the agent\n",
    "    actor = agent.policy.actor\n",
    "    actor.to(device)\n",
    "    actor.train()\n",
    "    \n",
    "    # Setup optimizer and loss function\n",
    "    optimizer = optim.Adam(actor.parameters(), lr=learning_rate)\n",
    "    criterion = nn.CrossEntropyLoss()\n",
    "    \n",
    "    # Training metrics\n",
    "    train_loss_history = []\n",
    "    test_loss_history = []\n",
    "    train_acc_history = []\n",
    "    test_acc_history = []\n",
    "    \n",
    "    # Early stopping variables\n",
    "    best_test_loss = float('inf')\n",
    "    best_epoch = 0\n",
    "    best_state_dict = None\n",
    "    epochs_no_improve = 0\n",
    "    \n",
    "    print(f\"Starting pretraining for up to {epochs} epochs with early stopping (patience={patience})\")\n",
    "    for epoch in range(epochs):\n",
    "        # Training phase\n",
    "        actor.train()\n",
    "        train_loss = 0\n",
    "        train_correct = 0\n",
    "        train_total = 0\n",
    "        \n",
    "        for states, actions in tqdm(train_loader, desc=f\"Train Epoch {epoch+1}/{epochs}\", leave=False):\n",
    "            states = states.float().to(device)\n",
    "            actions = actions.to(device)\n",
    "            \n",
    "            # Forward pass\n",
    "            action_probs = actor(states)\n",
    "            loss = criterion(action_probs, actions)\n",
    "            \n",
    "            # Backward pass and optimize\n",
    "            optimizer.zero_grad()\n",
    "            loss.backward()\n",
    "            optimizer.step()\n",
    "            \n",
    "            # Calculate accuracy\n",
    "            _, predicted = torch.max(action_probs.data, 1)\n",
    "            train_total += actions.size(0)\n",
    "            train_correct += (predicted == actions).sum().item()\n",
    "            \n",
    "            train_loss += loss.item() * states.size(0)  # Weighted by batch size\n",
    "        \n",
    "        # Calculate average training metrics\n",
    "        avg_train_loss = train_loss / train_total\n",
    "        train_accuracy = 100 * train_correct / train_total\n",
    "        \n",
    "        # Validation phase\n",
    "        actor.eval()\n",
    "        test_loss = 0\n",
    "        test_correct = 0\n",
    "        test_total = 0\n",
    "        \n",
    "        with torch.no_grad():\n",
    "            for states, actions in tqdm(test_loader, desc=f\"Test Epoch {epoch+1}/{epochs}\", leave=False):\n",
    "                states = states.float().to(device)\n",
    "                actions = actions.to(device)\n",
    "                \n",
    "                # Forward pass\n",
    "                action_probs = actor(states)\n",
    "                loss = criterion(action_probs, actions)\n",
    "                \n",
    "                # Calculate metrics\n",
    "                _, predicted = torch.max(action_probs.data, 1)\n",
    "                test_total += actions.size(0)\n",
    "                test_correct += (predicted == actions).sum().item()\n",
    "                \n",
    "                test_loss += loss.item() * states.size(0)  # Weighted by batch size\n",
    "        \n",
    "        # Calculate average validation metrics\n",
    "        avg_test_loss = test_loss / test_total\n",
    "        test_accuracy = 100 * test_correct / test_total\n",
    "        \n",
    "        # Record history\n",
    "        train_loss_history.append(avg_train_loss)\n",
    "        test_loss_history.append(avg_test_loss)\n",
    "        train_acc_history.append(train_accuracy)\n",
    "        test_acc_history.append(test_accuracy)\n",
    "        \n",
    "        # Print progress\n",
    "        print(f\"Epoch {epoch+1}/{epochs}\")\n",
    "        print(f\"  Train Loss: {avg_train_loss:.4f}, Train Accuracy: {train_accuracy:.2f}%\")\n",
    "        print(f\"  Test Loss: {avg_test_loss:.4f}, Test Accuracy: {test_accuracy:.2f}%\")\n",
    "        \n",
    "        # Check for improvement\n",
    "        if avg_test_loss < best_test_loss:\n",
    "            best_test_loss = avg_test_loss\n",
    "            best_epoch = epoch\n",
    "            best_state_dict = actor.state_dict().copy()\n",
    "            epochs_no_improve = 0\n",
    "            print(f\"  New best model! (Test Loss: {best_test_loss:.4f})\")\n",
    "        else:\n",
    "            epochs_no_improve += 1\n",
    "            print(f\"  No improvement for {epochs_no_improve} epochs. Best Test Loss: {best_test_loss:.4f} at epoch {best_epoch+1}\")\n",
    "            \n",
    "            if epochs_no_improve >= patience:\n",
    "                print(f\"Early stopping after {epoch+1} epochs\")\n",
    "                break\n",
    "    \n",
    "    # Load best model\n",
    "    if best_state_dict is not None:\n",
    "        actor.load_state_dict(best_state_dict)\n",
    "        print(f\"Loaded best model from epoch {best_epoch+1}\")\n",
    "    \n",
    "    # Save pretrained model if path is provided\n",
    "    if save_path is not None:\n",
    "        os.makedirs(os.path.dirname(save_path), exist_ok=True)\n",
    "        torch.save(actor.state_dict(), save_path)\n",
    "        print(f\"Pretrained model saved to {save_path}\")\n",
    "        \n",
    "        # Also save best model separately\n",
    "        best_path = os.path.join(os.path.dirname(save_path), \n",
    "                                 f\"best_{os.path.basename(save_path)}\")\n",
    "        torch.save(best_state_dict, best_path)\n",
    "        print(f\"Best model (epoch {best_epoch+1}) saved to {best_path}\")\n",
    "    \n",
    "    # Collect all history\n",
    "    history = {\n",
    "        'train_loss': train_loss_history,\n",
    "        'test_loss': test_loss_history,\n",
    "        'train_acc': train_acc_history,\n",
    "        'test_acc': test_acc_history,\n",
    "        'best_epoch': best_epoch,\n",
    "        'best_test_loss': best_test_loss,\n",
    "        'best_test_acc': test_acc_history[best_epoch],\n",
    "        'epochs_completed': len(train_loss_history)\n",
    "    }\n",
    "    \n",
    "    return history\n",
    "\n",
    "\n",
    "def plot_training_metrics(history, save_dir=None):\n",
    "    \"\"\"\n",
    "    Plot training and validation metrics.\n",
    "    \n",
    "    Parameters:\n",
    "    -----------\n",
    "    history : dict\n",
    "        Training history from pretrain_ppo_actor_with_validation\n",
    "    save_dir : str, optional\n",
    "        Directory to save plots\n",
    "    \"\"\"\n",
    "    if save_dir is not None:\n",
    "        os.makedirs(save_dir, exist_ok=True)\n",
    "    \n",
    "    # Plot losses\n",
    "    plt.figure(figsize=(12, 5))\n",
    "    \n",
    "    plt.subplot(1, 2, 1)\n",
    "    plt.plot(history['train_loss'], label='Train Loss', marker='o')\n",
    "    plt.plot(history['test_loss'], label='Validation Loss', marker='s')\n",
    "    plt.axvline(x=history['best_epoch'], color='r', linestyle='--', \n",
    "                label=f'Best Model (Epoch {history[\"best_epoch\"]+1})')\n",
    "    plt.title('Loss During Training')\n",
    "    plt.xlabel('Epoch')\n",
    "    plt.ylabel('Loss')\n",
    "    plt.legend()\n",
    "    plt.grid(True)\n",
    "    \n",
    "    plt.subplot(1, 2, 2)\n",
    "    plt.plot(history['train_acc'], label='Train Accuracy', marker='o')\n",
    "    plt.plot(history['test_acc'], label='Validation Accuracy', marker='s')\n",
    "    plt.axvline(x=history['best_epoch'], color='r', linestyle='--', \n",
    "                label=f'Best Model (Epoch {history[\"best_epoch\"]+1})')\n",
    "    plt.title('Accuracy During Training')\n",
    "    plt.xlabel('Epoch')\n",
    "    plt.ylabel('Accuracy (%)')\n",
    "    plt.legend()\n",
    "    plt.grid(True)\n",
    "    \n",
    "    plt.tight_layout()\n",
    "    \n",
    "    if save_dir is not None:\n",
    "        plt.savefig(os.path.join(save_dir, 'training_metrics.png'))\n",
    "        print(f\"Training metrics plot saved to {os.path.join(save_dir, 'training_metrics.png')}\")\n",
    "    \n",
    "    plt.show()\n",
    "\n",
    "\n",
    "def evaluate_pretrained_policy_detailed(agent, env, num_episodes=10, render=False, \n",
    "                                        save_path=None, device=None):\n",
    "    \"\"\"\n",
    "    Evaluate the pretrained policy with detailed metrics.\n",
    "    \n",
    "    Parameters:\n",
    "    -----------\n",
    "    agent : PPO\n",
    "        The PPO agent with pretrained actor\n",
    "    env : gym.Env\n",
    "        Environment to evaluate in\n",
    "    num_episodes : int\n",
    "        Number of episodes to evaluate\n",
    "    render : bool\n",
    "        Whether to render the environment\n",
    "    save_path : str, optional\n",
    "        Path to save the evaluation results\n",
    "    device : torch.device, optional\n",
    "        Device to run evaluation on\n",
    "        \n",
    "    Returns:\n",
    "    --------\n",
    "    dict\n",
    "        Evaluation statistics\n",
    "    \"\"\"\n",
    "    if device is None:\n",
    "        device = torch.device('cuda:0' if torch.cuda.is_available() else 'cpu')\n",
    "    \n",
    "    # Metrics to track\n",
    "    episode_rewards = []\n",
    "    episode_lengths = []\n",
    "    action_distribution = {0: 0, 1: 0}  # 0 for RK, 1 for BDF\n",
    "    stage_action_dist = {\n",
    "        'PREIGNITION': {0: 0, 1: 0},\n",
    "        'IGNITION': {0: 0, 1: 0},\n",
    "        'POSTIGNITION': {0: 0, 1: 0}\n",
    "    }\n",
    "    \n",
    "    # Track errors and CPU times for each integrator\n",
    "    integrator_metrics = {\n",
    "        0: {'errors': [], 'cpu_times': []},\n",
    "        1: {'errors': [], 'cpu_times': []}\n",
    "    }\n",
    "    \n",
    "    print(f\"Evaluating pretrained policy for {num_episodes} episodes...\")\n",
    "    \n",
    "    for episode in range(num_episodes):\n",
    "        env = env_manager.create_single_env()\n",
    "        obs, _ = env.reset()\n",
    "        done = False\n",
    "        episode_reward = 0\n",
    "        steps = 0\n",
    "        \n",
    "        while not done:\n",
    "            # Use deterministic policy (argmax) for evaluation\n",
    "            with torch.no_grad():\n",
    "                obs_tensor = torch.FloatTensor(obs).to(device)\n",
    "                action = agent.select_action(obs_tensor, deterministic=True, store_in_buffer=False)\n",
    "            \n",
    "            # Track action distribution\n",
    "            action_distribution[action] += 1\n",
    "            \n",
    "            # Execute action\n",
    "            obs, reward, terminated, truncated, info = env.step(action)\n",
    "            done = terminated or truncated\n",
    "            episode_reward += reward\n",
    "            steps += 1\n",
    "            \n",
    "            # Track stage-specific action choices\n",
    "            if 'current_stage' in info:\n",
    "                stage = info['current_stage']\n",
    "                if stage in stage_action_dist:\n",
    "                    stage_action_dist[stage][action] += 1\n",
    "            \n",
    "            # Track integrator-specific metrics\n",
    "            if 'error' in info:\n",
    "                integrator_metrics[action]['errors'].append(info['error'])\n",
    "            if 'cpu_time' in info:\n",
    "                integrator_metrics[action]['cpu_times'].append(info['cpu_time'])\n",
    "            \n",
    "            if render:\n",
    "                env.render()\n",
    "        \n",
    "        episode_rewards.append(episode_reward)\n",
    "        episode_lengths.append(steps)\n",
    "        print(f\"Episode {episode+1}: Reward = {episode_reward:.2f}, Steps = {steps}\")\n",
    "    \n",
    "    # Calculate overall statistics\n",
    "    mean_reward = np.mean(episode_rewards)\n",
    "    std_reward = np.std(episode_rewards)\n",
    "    mean_steps = np.mean(episode_lengths)\n",
    "    \n",
    "    # Calculate action distribution percentages\n",
    "    total_actions = sum(action_distribution.values())\n",
    "    action_percentages = {k: (v / total_actions) * 100 for k, v in action_distribution.items()}\n",
    "    \n",
    "    # Calculate stage-specific action percentages\n",
    "    stage_percentages = {}\n",
    "    for stage, dist in stage_action_dist.items():\n",
    "        stage_total = sum(dist.values())\n",
    "        if stage_total > 0:\n",
    "            stage_percentages[stage] = {k: (v / stage_total) * 100 for k, v in dist.items()}\n",
    "        else:\n",
    "            stage_percentages[stage] = {0: 0, 1: 0}\n",
    "    \n",
    "    # Calculate integrator-specific metrics\n",
    "    for action in integrator_metrics:\n",
    "        if integrator_metrics[action]['errors']:\n",
    "            integrator_metrics[action]['mean_error'] = np.mean(integrator_metrics[action]['errors'])\n",
    "            integrator_metrics[action]['median_error'] = np.median(integrator_metrics[action]['errors'])\n",
    "        else:\n",
    "            integrator_metrics[action]['mean_error'] = 0\n",
    "            integrator_metrics[action]['median_error'] = 0\n",
    "            \n",
    "        if integrator_metrics[action]['cpu_times']:\n",
    "            integrator_metrics[action]['mean_cpu_time'] = np.mean(integrator_metrics[action]['cpu_times'])\n",
    "            integrator_metrics[action]['median_cpu_time'] = np.median(integrator_metrics[action]['cpu_times'])\n",
    "        else:\n",
    "            integrator_metrics[action]['mean_cpu_time'] = 0\n",
    "            integrator_metrics[action]['median_cpu_time'] = 0\n",
    "    \n",
    "    # Compile all statistics\n",
    "    stats = {\n",
    "        'episode_rewards': episode_rewards,\n",
    "        'episode_lengths': episode_lengths,\n",
    "        'mean_reward': mean_reward,\n",
    "        'std_reward': std_reward,\n",
    "        'min_reward': np.min(episode_rewards),\n",
    "        'max_reward': np.max(episode_rewards),\n",
    "        'mean_steps': mean_steps,\n",
    "        'action_distribution': action_distribution,\n",
    "        'action_percentages': action_percentages,\n",
    "        'stage_action_dist': stage_action_dist,\n",
    "        'stage_percentages': stage_percentages,\n",
    "        'integrator_metrics': integrator_metrics\n",
    "    }\n",
    "    \n",
    "    # Print summary\n",
    "    print(\"\\nEvaluation Results:\")\n",
    "    print(f\"Mean Reward: {mean_reward:.2f} ± {std_reward:.2f}\")\n",
    "    print(f\"Mean Episode Length: {mean_steps:.1f} steps\")\n",
    "    print(f\"\\nOverall Action Distribution:\")\n",
    "    print(f\"  RK: {action_percentages[0]:.1f}%, BDF: {action_percentages[1]:.1f}%\")\n",
    "    \n",
    "    print(\"\\nStage-Specific Action Distribution:\")\n",
    "    for stage, percentages in stage_percentages.items():\n",
    "        if sum(stage_action_dist[stage].values()) > 0:\n",
    "            print(f\"  {stage}: RK: {percentages[0]:.1f}%, BDF: {percentages[1]:.1f}%\")\n",
    "    \n",
    "    print(\"\\nIntegrator Performance Metrics:\")\n",
    "    for action, metrics in integrator_metrics.items():\n",
    "        name = \"RK\" if action == 0 else \"BDF\"\n",
    "        if 'mean_error' in metrics:\n",
    "            print(f\"  {name}: Mean Error: {metrics['mean_error']:.6f}, Mean CPU Time: {metrics['mean_cpu_time']:.6f}s\")\n",
    "    \n",
    "    # Save results if requested\n",
    "    if save_path is not None:\n",
    "        os.makedirs(os.path.dirname(save_path), exist_ok=True)\n",
    "        np.save(save_path, stats)\n",
    "        print(f\"Evaluation results saved to {save_path}\")\n",
    "    \n",
    "    return stats\n",
    "\n",
    "\n",
    "def compare_integrators(stats, save_path=None):\n",
    "    \"\"\"\n",
    "    Compare performance of different integrators from evaluation statistics.\n",
    "    \n",
    "    Parameters:\n",
    "    -----------\n",
    "    stats : dict\n",
    "        Evaluation statistics from evaluate_pretrained_policy_detailed\n",
    "    save_path : str, optional\n",
    "        Path to save the comparison plot\n",
    "    \"\"\"\n",
    "    # Extract integrator metrics\n",
    "    rk_metrics = stats['integrator_metrics'][0]\n",
    "    bdf_metrics = stats['integrator_metrics'][1]\n",
    "    \n",
    "    # Check if we have data for both integrators\n",
    "    if not (rk_metrics['cpu_times'] and bdf_metrics['cpu_times']):\n",
    "        print(\"Insufficient data to compare integrators\")\n",
    "        return\n",
    "    \n",
    "    # Create figure\n",
    "    plt.figure(figsize=(14, 8))\n",
    "    \n",
    "    # CPU Time comparison\n",
    "    plt.subplot(2, 2, 1)\n",
    "    plt.hist(rk_metrics['cpu_times'], bins=30, alpha=0.7, label='RK')\n",
    "    plt.hist(bdf_metrics['cpu_times'], bins=30, alpha=0.7, label='BDF')\n",
    "    plt.xlabel('CPU Time (s)')\n",
    "    plt.ylabel('Frequency')\n",
    "    plt.title('CPU Time Distribution by Integrator')\n",
    "    plt.legend()\n",
    "    plt.grid(True)\n",
    "    \n",
    "    # Error comparison\n",
    "    plt.subplot(2, 2, 2)\n",
    "    plt.hist(rk_metrics['errors'], bins=30, alpha=0.7, label='RK')\n",
    "    plt.hist(bdf_metrics['errors'], bins=30, alpha=0.7, label='BDF')\n",
    "    plt.xlabel('Error')\n",
    "    plt.ylabel('Frequency')\n",
    "    plt.title('Error Distribution by Integrator')\n",
    "    plt.legend()\n",
    "    plt.grid(True)\n",
    "    \n",
    "    # Action distribution by stage\n",
    "    plt.subplot(2, 2, 3)\n",
    "    stages = list(stats['stage_percentages'].keys())\n",
    "    rk_percentage = [stats['stage_percentages'][stage][0] for stage in stages]\n",
    "    bdf_percentage = [stats['stage_percentages'][stage][1] for stage in stages]\n",
    "    \n",
    "    x = np.arange(len(stages))\n",
    "    width = 0.35\n",
    "    \n",
    "    plt.bar(x - width/2, rk_percentage, width, label='RK')\n",
    "    plt.bar(x + width/2, bdf_percentage, width, label='BDF')\n",
    "    plt.xlabel('Combustion Stage')\n",
    "    plt.ylabel('Usage Percentage (%)')\n",
    "    plt.title('Integrator Usage by Combustion Stage')\n",
    "    plt.xticks(x, stages)\n",
    "    plt.legend()\n",
    "    plt.grid(True)\n",
    "    \n",
    "    # Overall performance comparison\n",
    "    plt.subplot(2, 2, 4)\n",
    "    metrics = ['mean_cpu_time', 'mean_error']\n",
    "    rk_values = [rk_metrics[m] for m in metrics]\n",
    "    bdf_values = [bdf_metrics[m] for m in metrics]\n",
    "    \n",
    "    # Normalize for comparison\n",
    "    max_cpu = max(rk_metrics['mean_cpu_time'], bdf_metrics['mean_cpu_time'])\n",
    "    max_error = max(rk_metrics['mean_error'], bdf_metrics['mean_error'])\n",
    "    \n",
    "    rk_normalized = [rk_metrics['mean_cpu_time']/max_cpu, rk_metrics['mean_error']/max_error]\n",
    "    bdf_normalized = [bdf_metrics['mean_cpu_time']/max_cpu, bdf_metrics['mean_error']/max_error]\n",
    "    \n",
    "    x = np.arange(len(metrics))\n",
    "    width = 0.35\n",
    "    \n",
    "    plt.bar(x - width/2, rk_normalized, width, label='RK')\n",
    "    plt.bar(x + width/2, bdf_normalized, width, label='BDF')\n",
    "    plt.xlabel('Metric')\n",
    "    plt.ylabel('Normalized Value')\n",
    "    plt.title('Normalized Performance Metrics Comparison')\n",
    "    plt.xticks(x, ['CPU Time', 'Error'])\n",
    "    plt.legend()\n",
    "    plt.grid(True)\n",
    "    \n",
    "    plt.tight_layout()\n",
    "    \n",
    "    if save_path is not None:\n",
    "        plt.savefig(save_path)\n",
    "        print(f\"Integrator comparison plot saved to {save_path}\")\n",
    "    \n",
    "    plt.show()\n",
    "\n",
    "\n",
    "# Example usage:\n",
    "if __name__ == \"__main__\":\n",
    "    from agents.ppo_ import PPO\n",
    "    from environment.env_wrapper import EnvManager\n",
    "    import torch\n",
    "    import os\n",
    "    \n",
    "    # Create output directories\n",
    "    output_dir = \"pretraining_results\"\n",
    "    model_dir = os.path.join(output_dir, \"models\")\n",
    "    plot_dir = os.path.join(output_dir, \"plots\")\n",
    "    os.makedirs(model_dir, exist_ok=True)\n",
    "    os.makedirs(plot_dir, exist_ok=True)\n",
    "    \n",
    "    # Create environment and agent\n",
    "    env_manager = EnvManager(args)\n",
    "    env = env_manager.create_single_env()\n",
    "    \n",
    "    # Get environment dimensions\n",
    "    state_dim = env.observation_space.shape[0]\n",
    "    action_dim = env.action_space.n\n",
    "    \n",
    "    # Initialize PPO agent\n",
    "    agent = PPO(\n",
    "        state_dim=state_dim,\n",
    "        action_dim=action_dim,\n",
    "        lr_actor=3e-4,\n",
    "        lr_critic=3e-4,\n",
    "        gamma=0.99,\n",
    "        K_epochs=10,\n",
    "        eps_clip=0.2,\n",
    "        has_continuous_action_space=False\n",
    "    )\n",
    "    \n",
    "    # Pretrain the agent\n",
    "    history = pretrain_ppo_actor_with_validation(\n",
    "        agent=agent,\n",
    "        dataset_path='pretraining_dataset_filtered.npy',\n",
    "        obs_dim=state_dim,\n",
    "        batch_size=64,\n",
    "        epochs=50,\n",
    "        learning_rate=3e-4,\n",
    "        test_size=0.2,\n",
    "        patience=7,\n",
    "        save_path=os.path.join(model_dir, 'pretrained_actor.pth'),\n",
    "        balance_actions=True\n",
    "    )\n",
    "    \n",
    "    # Plot training metrics\n",
    "    plot_training_metrics(history, save_dir=plot_dir)\n",
    "    \n",
    "    # Evaluate pretrained policy\n",
    "    eval_stats = evaluate_pretrained_policy_detailed(\n",
    "        agent=agent,\n",
    "        env=env,\n",
    "        num_episodes=20,\n",
    "        render=False,\n",
    "        save_path=os.path.join(output_dir, 'eval_stats.npy')\n",
    "    )\n",
    "    \n",
    "    # Compare integrator performance\n",
    "    compare_integrators(\n",
    "        stats=eval_stats,\n",
    "        save_path=os.path.join(plot_dir, 'integrator_comparison.png')\n",
    "    )"
   ]
  },
  {
   "cell_type": "code",
   "execution_count": 217,
   "metadata": {},
   "outputs": [
    {
     "name": "stdout",
     "output_type": "stream",
     "text": [
      "Evaluating pretrained policy for 20 episodes...\n",
      "Episode 1: Reward = 407.22, Steps = 499\n",
      "Episode 2: Reward = 414.08, Steps = 499\n",
      "Episode 3: Reward = 413.16, Steps = 499\n",
      "Episode 4: Reward = 407.53, Steps = 499\n",
      "Episode 5: Reward = 415.93, Steps = 499\n",
      "Episode 6: Reward = 418.62, Steps = 499\n",
      "Episode 7: Reward = 418.59, Steps = 499\n",
      "Episode 8: Reward = 419.28, Steps = 499\n",
      "Episode 9: Reward = 417.24, Steps = 499\n",
      "Episode 10: Reward = 418.97, Steps = 499\n",
      "Episode 11: Reward = 418.63, Steps = 499\n",
      "Episode 12: Reward = 413.65, Steps = 499\n",
      "Episode 13: Reward = 414.19, Steps = 499\n",
      "Episode 14: Reward = 415.65, Steps = 499\n",
      "Episode 15: Reward = 418.75, Steps = 499\n",
      "Episode 16: Reward = 419.38, Steps = 499\n",
      "Episode 17: Reward = 417.40, Steps = 499\n",
      "Episode 18: Reward = 418.71, Steps = 499\n",
      "Episode 19: Reward = 419.35, Steps = 499\n",
      "Episode 20: Reward = 416.71, Steps = 499\n",
      "\n",
      "Evaluation Results:\n",
      "Mean Reward: 416.15 ± 3.54\n",
      "Mean Episode Length: 499.0 steps\n",
      "\n",
      "Overall Action Distribution:\n",
      "  RK: 0.0%, BDF: 100.0%\n",
      "\n",
      "Stage-Specific Action Distribution:\n",
      "  PREIGNITION: RK: 0.0%, BDF: 100.0%\n",
      "\n",
      "Integrator Performance Metrics:\n",
      "  RK: Mean Error: 0.000000, Mean CPU Time: 0.000000s\n",
      "  BDF: Mean Error: 0.000000, Mean CPU Time: 0.001035s\n",
      "Evaluation results saved to pretraining_results/eval_stats.npy\n",
      "Insufficient data to compare integrators\n"
     ]
    }
   ],
   "source": [
    "# Evaluate pretrained policy\n",
    "eval_stats = evaluate_pretrained_policy_detailed(\n",
    "    agent=agent,\n",
    "    env=env,\n",
    "    num_episodes=20,\n",
    "    render=False,\n",
    "    save_path=os.path.join(output_dir, 'eval_stats.npy')\n",
    ")\n",
    "\n",
    "# Compare integrator performance\n",
    "compare_integrators(\n",
    "    stats=eval_stats,\n",
    "    save_path=os.path.join(plot_dir, 'integrator_comparison.png')\n",
    ")"
   ]
  },
  {
   "cell_type": "code",
   "execution_count": 213,
   "metadata": {},
   "outputs": [
    {
     "name": "stdout",
     "output_type": "stream",
     "text": [
      "Combustion problem initialized with T=300.0, P=101325.0, phi=0.8999999999999999 and timestep=0.0001\n"
     ]
    },
    {
     "name": "stderr",
     "output_type": "stream",
     "text": [
      "Computing reference solution: 100%|██████████| 500/500 [00:00<00:00, 10180.15it/s]\n"
     ]
    },
    {
     "name": "stdout",
     "output_type": "stream",
     "text": [
      "Reference solution computed in 0.05 seconds\n",
      "Environment 0 created with T=300.0, P=101325.0, phi=0.8999999999999999 and timestep=0.0001\n",
      "Combustion problem initialized with T=900.0, P=101325.0, phi=0.9999999999999999 and timestep=0.0001\n"
     ]
    },
    {
     "name": "stderr",
     "output_type": "stream",
     "text": [
      "Computing reference solution: 100%|██████████| 500/500 [00:00<00:00, 9510.55it/s]"
     ]
    },
    {
     "name": "stdout",
     "output_type": "stream",
     "text": [
      "Reference solution computed in 0.05 seconds\n"
     ]
    },
    {
     "name": "stderr",
     "output_type": "stream",
     "text": [
      "\n"
     ]
    }
   ],
   "source": [
    "from agents.ppo_ import PPO\n",
    "from environment.env_wrapper import EnvManager\n",
    "import torch\n",
    "import matplotlib.pyplot as plt\n",
    "\n",
    "# Create environment and agent\n",
    "env_manager = EnvManager(args)\n",
    "env = env_manager.create_single_env()\n",
    "\n",
    "# Get environment dimensions\n",
    "state_dim = env.observation_space.shape[0]\n",
    "action_dim = env.action_space.n\n",
    "\n",
    "# Initialize PPO agent\n",
    "agent = PPO(\n",
    "    state_dim=state_dim,\n",
    "    action_dim=action_dim,\n",
    "    lr_actor=3e-4,\n",
    "    lr_critic=3e-4,\n",
    "    gamma=0.99,\n",
    "    K_epochs=10,\n",
    "    eps_clip=0.2,\n",
    "    has_continuous_action_space=False\n",
    ")\n",
    "\n"
   ]
  },
  {
   "cell_type": "code",
   "execution_count": null,
   "metadata": {},
   "outputs": [],
   "source": [
    "#Pretrain the agent\n",
    "loss_history = pretrain_ppo_actor(\n",
    "    agent=agent,\n",
    "    dataset_path='pretraining_dataset_filtered.npy',\n",
    "    obs_dim=state_dim,\n",
    "    batch_size=64,\n",
    "    epochs=20,\n",
    "    save_path='pretrained_models/pretrained_actor.pth'\n",
    ")\n",
    "\n"
   ]
  },
  {
   "cell_type": "code",
   "execution_count": 215,
   "metadata": {},
   "outputs": [
    {
     "name": "stdout",
     "output_type": "stream",
     "text": [
      "Plot saved to pretraining_loss.png\n"
     ]
    },
    {
     "data": {
      "image/png": "[encoded data removed]",
      "text/plain": [
       "<Figure size 1000x600 with 1 Axes>"
      ]
     },
     "metadata": {},
     "output_type": "display_data"
    }
   ],
   "source": [
    "# Plot training results\n",
    "plot_pretraining_results(loss_history, save_path='pretraining_loss.png')"
   ]
  },
  {
   "cell_type": "code",
   "execution_count": null,
   "metadata": {},
   "outputs": [],
   "source": [
    "# Example usage:\n",
    "if __name__ == \"__main__\":\n",
    "    from agents.ppo_ import PPO\n",
    "    from environment.env_wrapper import EnvManager\n",
    "    import torch\n",
    "    import matplotlib.pyplot as plt\n",
    "    \n",
    "    # Create environment and agent\n",
    "    env_manager = EnvManager(args)\n",
    "    env = env_manager.create_single_env()\n",
    "    \n",
    "    # Get environment dimensions\n",
    "    state_dim = env.observation_space.shape[0]\n",
    "    action_dim = env.action_space.n\n",
    "    \n",
    "    # Initialize PPO agent\n",
    "    agent = PPO(\n",
    "        state_dim=state_dim,\n",
    "        action_dim=action_dim,\n",
    "        lr_actor=3e-4,\n",
    "        lr_critic=3e-4,\n",
    "        gamma=0.99,\n",
    "        K_epochs=10,\n",
    "        eps_clip=0.2,\n",
    "        has_continuous_action_space=False\n",
    "    )\n",
    "    \n",
    "    # Pretrain the agent\n",
    "    loss_history = pretrain_ppo_actor(\n",
    "        agent=agent,\n",
    "        dataset_path='pretraining_dataset.npy',\n",
    "        obs_dim=state_dim,\n",
    "        batch_size=64,\n",
    "        epochs=20,\n",
    "        save_path='pretrained_models/pretrained_actor.pth'\n",
    "    )\n",
    "    \n",
    "    # Plot training results\n",
    "    plot_pretraining_results(loss_history, save_path='plots/pretraining_loss.png')\n",
    "    \n",
    "    # Evaluate pretrained policy\n",
    "    eval_stats = evaluate_pretrained_policy(agent, env, num_episodes=10)\n",
    "    \n",
    "    # Continue with standard RL training (now with pretrained policy)\n",
    "    # Create a trainer with the pretrained agent\n",
    "    trainer = Trainer(args)\n",
    "    trainer.agent = agent  # Replace with pretrained agent\n",
    "    trainer.train()"
   ]
  }
 ],
 "metadata": {
  "kernelspec": {
   "display_name": "mlEnv",
   "language": "python",
   "name": "python3"
  },
  "language_info": {
   "codemirror_mode": {
    "name": "ipython",
    "version": 3
   },
   "file_extension": ".py",
   "mimetype": "text/x-python",
   "name": "python",
   "nbconvert_exporter": "python",
   "pygments_lexer": "ipython3",
   "version": "3.11.11"
  }
 },
 "nbformat": 4,
 "nbformat_minor": 2
}
